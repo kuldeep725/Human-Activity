{
 "cells": [
  {
   "cell_type": "code",
   "execution_count": 81,
   "metadata": {},
   "outputs": [],
   "source": [
    "import numpy as np\n",
    "import pandas as pd\n",
    "import matplotlib.pyplot as plt\n",
    "from sklearn.preprocessing import StandardScaler"
   ]
  },
  {
   "cell_type": "code",
   "execution_count": 82,
   "metadata": {},
   "outputs": [],
   "source": [
    "df_train = pd.read_csv('train/X_train.txt', delim_whitespace=True, header=None)\n",
    "df_test = pd.read_csv('test/X_test.txt', delim_whitespace=True, header=None)\n",
    "\n",
    "combine = pd.concat([df_train, df_test])\n",
    "\n",
    "# X = combine.values\n",
    "y_train = np.array(pd.read_csv('train/y_train.txt', header=None)).ravel()\n",
    "y_test = np.array(pd.read_csv('test/y_test.txt', header=None)).ravel()\n",
    "df_train.shape, df_test.shape, combine.shape\n",
    "\n",
    "stdScaler = StandardScaler()\n",
    "X = stdScaler.fit_transform(combine.values)\n",
    "X_train = stdScaler.fit_transform(df_train.values)\n",
    "X_test = stdScaler.fit_transform(df_test.values)"
   ]
  },
  {
   "cell_type": "markdown",
   "metadata": {},
   "source": [
    "# Applying PCA\n",
    "\n",
    "Since, the number of attributes is very large, we are applying **PCA** to reduce the dimensions of feature vector."
   ]
  },
  {
   "cell_type": "code",
   "execution_count": 83,
   "metadata": {},
   "outputs": [
    {
     "data": {
      "text/plain": [
       "(7352, 63)"
      ]
     },
     "execution_count": 83,
     "metadata": {},
     "output_type": "execute_result"
    }
   ],
   "source": [
    "from sklearn.decomposition import PCA\n",
    "\n",
    "pca = PCA(n_components=0.90, random_state=42)  # choosing variance to be 0.9\n",
    "pca = pca.fit(X_train)\n",
    "Xtrain_pca = pca.transform(X_train)\n",
    "Xtest_pca = pca.transform(X_test)\n",
    "Xtrain_pca.shape"
   ]
  },
  {
   "cell_type": "code",
   "execution_count": 84,
   "metadata": {},
   "outputs": [
    {
     "data": {
      "text/plain": [
       "array([0.50781172, 0.57361853, 0.60168289, 0.62672242, 0.64560527,\n",
       "       0.66284534, 0.67655545, 0.68854623, 0.69850482, 0.70815569,\n",
       "       0.7167562 , 0.72475901, 0.73239898, 0.73885227, 0.74517551,\n",
       "       0.75117273, 0.75704023, 0.76279431, 0.76847352, 0.77374648,\n",
       "       0.77875011, 0.78363419, 0.78841625, 0.79310188, 0.79759477,\n",
       "       0.80180504, 0.80598483, 0.81004053, 0.81392577, 0.81779595,\n",
       "       0.82145554, 0.82500108, 0.8284805 , 0.83185237, 0.83514914,\n",
       "       0.83843129, 0.84163659, 0.84459274, 0.84745996, 0.85031071,\n",
       "       0.85299837, 0.85565457, 0.85828863, 0.86087714, 0.86336768,\n",
       "       0.86583722, 0.86824402, 0.87060517, 0.87290796, 0.87518364,\n",
       "       0.87738528, 0.87951995, 0.881597  , 0.88362196, 0.88561976,\n",
       "       0.88759726, 0.88954   , 0.89144237, 0.89332302, 0.89518518,\n",
       "       0.89699985, 0.89877366, 0.90053451])"
      ]
     },
     "metadata": {},
     "output_type": "display_data"
    },
    {
     "data": {
      "image/png": "[encoded data removed]",
      "text/plain": [
       "<matplotlib.figure.Figure at 0x7f24c50a8a90>"
      ]
     },
     "metadata": {},
     "output_type": "display_data"
    }
   ],
   "source": [
    "display(pca.explained_variance_ratio_.cumsum())\n",
    "for i in range(1, 7) :\n",
    "    plt.scatter(Xtrain_pca[y_train == i, 0], Xtrain_pca[y_train == i, 1])\n",
    "plt.show()"
   ]
  },
  {
   "cell_type": "code",
   "execution_count": 85,
   "metadata": {},
   "outputs": [],
   "source": [
    "stdScaler = StandardScaler()\n",
    "X_train = stdScaler.fit_transform(Xtrain_pca)\n",
    "X_test = stdScaler.fit_transform(Xtest_pca)"
   ]
  },
  {
   "cell_type": "code",
   "execution_count": 86,
   "metadata": {},
   "outputs": [],
   "source": [
    "d=[0.001, 0.003, 0.006, 0.01,0.03,0.06,0.1,0.3,0.6, 1, 3, 10]"
   ]
  },
  {
   "cell_type": "markdown",
   "metadata": {},
   "source": [
    "# Logistic Regression "
   ]
  },
  {
   "cell_type": "code",
   "execution_count": 87,
   "metadata": {},
   "outputs": [],
   "source": [
    "from sklearn.linear_model import LogisticRegression"
   ]
  },
  {
   "cell_type": "markdown",
   "metadata": {},
   "source": [
    "### Using Liblinear as *sovler*\n",
    "\n",
    "For multiclass problems, **Liblinear** uses one-versus-rest schemes."
   ]
  },
  {
   "cell_type": "code",
   "execution_count": 96,
   "metadata": {},
   "outputs": [
    {
     "name": "stdout",
     "output_type": "stream",
     "text": [
      "Optimal C =  0.3\n",
      "Training score by Logistic Regression (liblinear) :  0.9473612622415669\n",
      "Test score by Logistic Regression (liblinear) :  0.9226331862911435\n"
     ]
    }
   ],
   "source": [
    "max_train = 0\n",
    "max_test = 0\n",
    "optimalC = d[0]\n",
    "for i in d:\n",
    "    \n",
    "    clf = LogisticRegression(C=i, penalty='l2', random_state=42)\n",
    "    clf.fit(X_train, y_train)\n",
    "    score_train = clf.score(X_train, y_train)\n",
    "    score_test = clf.score(X_test, y_test)\n",
    "    \n",
    "#     print(i, score_train)\n",
    "#     print(i, score_test)\n",
    "    \n",
    "#     print('-'*25)\n",
    "    if(score_test > max_test) :\n",
    "        max_test = score_test\n",
    "        max_train = score_train\n",
    "        optimalC = i\n",
    "\n",
    "print(\"Optimal C = \", optimalC)\n",
    "print(\"Training score by Logistic Regression (liblinear) : \", max_train)\n",
    "print(\"Test score by Logistic Regression (liblinear) : \", max_test)"
   ]
  },
  {
   "cell_type": "markdown",
   "metadata": {},
   "source": [
    "### Using saga as solver\n",
    "\n",
    "For multiclass problems, '**Saga**' handle multinomial loss."
   ]
  },
  {
   "cell_type": "code",
   "execution_count": 89,
   "metadata": {},
   "outputs": [
    {
     "name": "stderr",
     "output_type": "stream",
     "text": [
      "/home/kunal/anaconda3/lib/python3.6/site-packages/sklearn/linear_model/sag.py:326: ConvergenceWarning: The max_iter was reached which means the coef_ did not converge\n",
      "  \"the coef_ did not converge\", ConvergenceWarning)\n"
     ]
    },
    {
     "name": "stdout",
     "output_type": "stream",
     "text": [
      "Optimal C =  0.03\n",
      "Training score by Logistic Regression (Saga) :  0.948177366702938\n",
      "Validation score by Logistic Regression (Saga) :  0.9212758737699356\n"
     ]
    }
   ],
   "source": [
    "max_train = 0\n",
    "max_test = 0\n",
    "optimalC = d[0]\n",
    "for i in d:\n",
    "    \n",
    "    clf = LogisticRegression(C=i, penalty='l2', max_iter=100, solver='saga',\n",
    "                             multi_class='multinomial', random_state=42)\n",
    "    clf.fit(X_train, y_train)\n",
    "    score_train = clf.score(X_train, y_train)\n",
    "    score_test = clf.score(X_test, y_test)\n",
    "    \n",
    "#     print('-'*25)\n",
    "#     print(i, score_train)\n",
    "#     print(i, score_test)\n",
    "    \n",
    "    if(score_test > max_test) :\n",
    "        max_test = score_test\n",
    "        max_train = score_train\n",
    "        optimalC = i\n",
    "\n",
    "print(\"Optimal C = \", optimalC)\n",
    "print(\"Training score by Logistic Regression (Saga) : \", max_train)\n",
    "print(\"Test score by Logistic Regression (Saga) : \", max_test)"
   ]
  },
  {
   "cell_type": "markdown",
   "metadata": {},
   "source": [
    " # SVM "
   ]
  },
  {
   "cell_type": "code",
   "execution_count": 90,
   "metadata": {},
   "outputs": [
    {
     "name": "stdout",
     "output_type": "stream",
     "text": [
      "Optimal C =  5\n",
      "Training score by SVM :  0.9953754080522307\n",
      "Validation score by SVM :  0.9202578893790295\n"
     ]
    }
   ],
   "source": [
    "from sklearn.svm import SVC\n",
    "\n",
    "max_train = 0\n",
    "max_test = 0\n",
    "svc_list = [1] + [i for i in range(5, 51, 5)]\n",
    "optimalC = svc_list[0]\n",
    "for i in svc_list:\n",
    "    \n",
    "    clf = SVC(C=i, kernel='rbf', random_state=42)\n",
    "    clf.fit(X_train, y_train)\n",
    "    score_train = clf.score(X_train, y_train)\n",
    "    score_test = clf.score(X_test, y_test)\n",
    "    \n",
    "#     print(i, score_train)\n",
    "#     print(i, score_test)\n",
    "    \n",
    "#     print('-'*25)\n",
    "    if(score_test > max_test) :\n",
    "        max_test = score_test\n",
    "        max_train = score_train\n",
    "        optimalC = i\n",
    "\n",
    "print(\"Optimal C = \", optimalC)\n",
    "print(\"Training score by SVM : \", max_train)\n",
    "print(\"Test score by SVM : \", max_test)"
   ]
  },
  {
   "cell_type": "code",
   "execution_count": 91,
   "metadata": {},
   "outputs": [
    {
     "name": "stdout",
     "output_type": "stream",
     "text": [
      "Optimal C =  1\n",
      "Training Error by SVM :  0.9707562568008705\n",
      "Validation Error by SVM :  0.9015948422124194\n"
     ]
    }
   ],
   "source": [
    "from sklearn.svm import SVC\n",
    "\n",
    "max_train = 0\n",
    "max_test = 0\n",
    "svc_list = [1] + [i for i in range(5, 51, 5)]\n",
    "optimalC = svc_list\n",
    "for i in svc_list:\n",
    "    \n",
    "    clf = SVC(C=i, kernel='linear', random_state=42)\n",
    "    clf.fit(Xtrain_pca, y_train)\n",
    "    score_train = clf.score(Xtrain_pca, y_train)\n",
    "    score_test = clf.score(Xtest_pca, y_test)\n",
    "    \n",
    "#     print(i, score_train)\n",
    "#     print(i, score_test)\n",
    "    \n",
    "#     print('-'*25)\n",
    "    if(score_test > max_test) :\n",
    "        max_test = score_test\n",
    "        max_train = score_train\n",
    "        optimalC = i\n",
    "\n",
    "print(\"Optimal C = \", optimalC)\n",
    "print(\"Training Error by SVM : \", max_train)\n",
    "print(\"Test Error by SVM : \", max_test)"
   ]
  },
  {
   "cell_type": "code",
   "execution_count": 98,
   "metadata": {},
   "outputs": [
    {
     "name": "stdout",
     "output_type": "stream",
     "text": [
      "depth, estimator =  7 10\n",
      "depth, estimator =  7 16\n",
      "depth, estimator =  7 25\n",
      "depth, estimator =  7 28\n",
      "depth, estimator =  7 39\n",
      "depth, estimator =  7 43\n",
      "depth, estimator =  7 45\n",
      "depth, estimator =  7 50\n",
      "depth, estimator =  8 22\n",
      "depth, estimator =  9 45\n",
      "depth, estimator =  9 49\n",
      "Optimal Depth =  9\n",
      "Optimal Number of Estimatos =  49\n",
      "Training Score by SVM :  0.9646354733405876\n",
      "Test Score by SVM :  0.8717339667458432\n"
     ]
    }
   ],
   "source": [
    "from sklearn.ensemble import RandomForestClassifier\n",
    "max_train = 0\n",
    "max_test = 0\n",
    "optimalDepth = 7\n",
    "optimalEstimator = 10\n",
    "for depth in [7, 8, 9] :\n",
    "    for estimator in range(10, 51) :\n",
    "        model_rfc = RandomForestClassifier(n_estimators=estimator, max_depth=depth)\n",
    "        model_rfc.fit(X_train, y_train)\n",
    "        score_train = model_rfc.score(X_train, y_train)\n",
    "        score_test = model_rfc.score(X_test, y_test)\n",
    "#         print(\"Training Score for %d and %d \", depth, estimator, \" : \", train_score)\n",
    "#         print(\"Validation Score for %d and %d \", depth, estimator,\" : \", val_score)\n",
    "        if(max_test < score_test) :\n",
    "            max_test = score_test\n",
    "            max_train = score_train\n",
    "            optimalDepth = depth\n",
    "            optimalEstimator = estimator\n",
    "            print(\"depth, estimator = \", depth, estimator)\n",
    "            \n",
    "print(\"Optimal Depth = \", optimalDepth)\n",
    "print(\"Optimal Number of Estimatos = \", optimalEstimator)\n",
    "print(\"Training Score by Random Forest : \", max_train)\n",
    "print(\"Test Score by Random Forest : \", max_test)"
   ]
  }
 ],
 "metadata": {
  "kernelspec": {
   "display_name": "Python 3",
   "language": "python",
   "name": "python3"
  },
  "language_info": {
   "codemirror_mode": {
    "name": "ipython",
    "version": 3
   },
   "file_extension": ".py",
   "mimetype": "text/x-python",
   "name": "python",
   "nbconvert_exporter": "python",
   "pygments_lexer": "ipython3",
   "version": "3.6.4"
  }
 },
 "nbformat": 4,
 "nbformat_minor": 2
}
