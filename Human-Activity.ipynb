{
 "cells": [
  {
   "cell_type": "code",
   "execution_count": 3,
   "metadata": {},
   "outputs": [],
   "source": [
    "import numpy as np\n",
    "import pandas as pd\n",
    "import matplotlib.pyplot as plt\n",
    "from sklearn.preprocessing import StandardScaler"
   ]
  },
  {
   "cell_type": "code",
   "execution_count": null,
   "metadata": {},
   "outputs": [],
   "source": [
    "df_train = pd.read_csv('train/X_train.txt', delim_whitespace=True, header=None)\n",
    "df_test = pd.read_csv('test/X_test.txt', delim_whitespace=True, header=None)\n",
    "\n",
    "combine = pd.concat([df_train, df_test])\n",
    "\n",
    "y_train = np.array(pd.read_csv('train/y_train.txt', header=None)).ravel()\n",
    "y_test = np.array(pd.read_csv('test/y_test.txt', header=None)).ravel()\n",
    "df_train.shape, df_test.shape, combine.shape"
   ]
  },
  {
   "cell_type": "markdown",
   "metadata": {},
   "source": [
    "# PRE-PROCESSING :\n",
    "It is a good practice to perform feature scaling and mean normalization before applying models like Logistic Regression, SVM, etc. "
   ]
  },
  {
   "cell_type": "code",
   "execution_count": 14,
   "metadata": {},
   "outputs": [],
   "source": [
    "stdScaler = StandardScaler()\n",
    "X = stdScaler.fit_transform(combine.values)\n",
    "X_train = stdScaler.fit_transform(df_train.values)\n",
    "X_test = stdScaler.fit_transform(df_test.values)"
   ]
  },
  {
   "cell_type": "markdown",
   "metadata": {},
   "source": [
    "# Visualizing Output Labels"
   ]
  },
  {
   "cell_type": "code",
   "execution_count": 5,
   "metadata": {},
   "outputs": [
    {
     "data": {
      "text/plain": [
       "[0, 2, 4, 6, 8, 10]"
      ]
     },
     "metadata": {},
     "output_type": "display_data"
    },
    {
     "data": {
      "image/png": "[encoded data removed]",
      "text/plain": [
       "<matplotlib.figure.Figure at 0x7f1b18e889b0>"
      ]
     },
     "metadata": {},
     "output_type": "display_data"
    }
   ],
   "source": [
    "labels = ['WALKING', 'WALKING\\nUP', 'WALKING\\nDOWN', 'SITTING', 'STANDING', 'LAYING']\n",
    "# x_labels = np.arange(len(labels))\n",
    "x_labels = [i for i in range(0, 11, 2)]\n",
    "display(x_labels)\n",
    "freq = [0 for i in range(len(labels))]\n",
    "for i in range(len(labels)) :\n",
    "    freq[i] = sum(y_train == i+1)\n",
    "    \n",
    "plt.bar(x_labels, freq)\n",
    "plt.xticks(x_labels, labels)\n",
    "plt.xlabel(\"Labels\")\n",
    "plt.ylabel(\"Frequency of label\")\n",
    "plt.title(\"Output Visualization\")\n",
    "\n",
    "plt.show()"
   ]
  },
  {
   "cell_type": "markdown",
   "metadata": {},
   "source": [
    "Should we use PCA ?\n",
    "====================\n",
    "Since, the dataset contains 10299 instances and 561 attributes. The number of attributes is quite high so it might take time to train the model. Also, large number of attributes can lead to Overfitting. If the model overfits because of large number of attributes, we can use **Principal Component Analysis** (PCA) to reduce the number of attributes so that the model will contain new useful features. But when i trained my model on Logistic, SVM and Random Forest, i observed that the Training Score and Test Score is quite close. It means that our model performs equally good on Training Set and Test Set. This implies that our model do not Overfit, so we do not need to apply PCA here. We can verify that PCA will not increase the Test Score. Before applying PCA, we need to perform Data Centralization. Data centralization is a major step before applying PCA to a Training Set. On applying PCA for the model with variance 0.9, we observe that around only 63 principal components are required and with variance 0.85, around only 40 principal components are required. We will stick with 0.85 variance as a thumb of rule (it is observed that variance \"0.85\" often suits many models quite well)."
   ]
  },
  {
   "cell_type": "code",
   "execution_count": 6,
   "metadata": {},
   "outputs": [
    {
     "data": {
      "text/plain": [
       "(7352, 40)"
      ]
     },
     "execution_count": 6,
     "metadata": {},
     "output_type": "execute_result"
    }
   ],
   "source": [
    "from sklearn.decomposition import PCA\n",
    "\n",
    "pca = PCA(n_components=0.85, random_state=42) \n",
    "pca = pca.fit(X_train)\n",
    "Xtrain_pca = pca.transform(X_train)\n",
    "Xtest_pca = pca.transform(X_test)\n",
    "\n",
    "Xtrain_pca.shape"
   ]
  },
  {
   "cell_type": "markdown",
   "metadata": {},
   "source": [
    "We can see that the first principal component accounts for 0.5 variance, (first+second) principal components accounts for 0.57 variance and this gradually decreases further."
   ]
  },
  {
   "cell_type": "code",
   "execution_count": 10,
   "metadata": {},
   "outputs": [
    {
     "data": {
      "text/plain": [
       "array([0.50781172, 0.57361853, 0.60168289, 0.62672242, 0.64560527,\n",
       "       0.66284534, 0.67655545, 0.68854623, 0.69850482, 0.70815569,\n",
       "       0.7167562 , 0.72475901, 0.73239898, 0.73885227, 0.74517551,\n",
       "       0.75117273, 0.75704023, 0.76279431, 0.76847352, 0.77374648,\n",
       "       0.77875011, 0.78363419, 0.78841625, 0.79310188, 0.79759477,\n",
       "       0.80180504, 0.80598483, 0.81004053, 0.81392577, 0.81779595,\n",
       "       0.82145554, 0.82500108, 0.8284805 , 0.83185237, 0.83514914,\n",
       "       0.83843129, 0.84163659, 0.84459274, 0.84745996, 0.85031071])"
      ]
     },
     "metadata": {},
     "output_type": "display_data"
    },
    {
     "data": {
      "image/png": "[encoded data removed]",
      "text/plain": [
       "<matplotlib.figure.Figure at 0x7f1b18eaf390>"
      ]
     },
     "metadata": {},
     "output_type": "display_data"
    }
   ],
   "source": [
    "pca_csum = pca.explained_variance_ratio_.cumsum()\n",
    "display(pca_csum)\n",
    "pca_csum_list = []\n",
    "for i in range(len(pca_csum)) :\n",
    "    pca_csum_list.append(pca_csum[i])\n",
    "plt.plot(pca_csum_list, 'b')\n",
    "plt.xlabel(\"Number of principal components\")\n",
    "plt.ylabel(\"Cumulative Variance\")\n",
    "plt.title(\"Principal components vs Cumulative Variance\")\n",
    "plt.show()"
   ]
  },
  {
   "cell_type": "markdown",
   "metadata": {},
   "source": [
    "To use the models implement below with pca, do the following in the cell below :\n",
    "- Rename X_train2 to X_train\n",
    "- Rename X_test2 to X_test"
   ]
  },
  {
   "cell_type": "code",
   "execution_count": 11,
   "metadata": {},
   "outputs": [
    {
     "data": {
      "text/plain": [
       "((7352, 40), (2947, 40))"
      ]
     },
     "execution_count": 11,
     "metadata": {},
     "output_type": "execute_result"
    }
   ],
   "source": [
    "stdScaler = StandardScaler()\n",
    "X_train2 = stdScaler.fit_transform(Xtrain_pca)\n",
    "X_test2 = stdScaler.transform(Xtest_pca)\n",
    "X_train2.shape, X_test2.shape"
   ]
  },
  {
   "cell_type": "markdown",
   "metadata": {},
   "source": [
    "# Logistic Regression \n",
    "Here, we are using Logistic Regression with \"liblinear\" solver. LIBLINEAR is an open source library for large-scale linear classification. Logistic Regression is performing really great with 96.87% accuracy in Test Set."
   ]
  },
  {
   "cell_type": "markdown",
   "metadata": {},
   "source": [
    "### Using Liblinear as *solver*\n",
    "\n",
    "For multiclass problems, **Liblinear** uses one-versus-rest schemes."
   ]
  },
  {
   "cell_type": "code",
   "execution_count": 25,
   "metadata": {
    "scrolled": true
   },
   "outputs": [
    {
     "name": "stdout",
     "output_type": "stream",
     "text": [
      "0.001 0.9453210010881393\n",
      "0.001 0.9433322022395657\n",
      "-------------------------\n",
      "0.003 0.963139281828074\n",
      "0.003 0.9565659993213438\n",
      "-------------------------\n",
      "0.006 0.9715723612622416\n",
      "0.006 0.9616559212758737\n",
      "-------------------------\n",
      "0.01 0.9760609357997824\n",
      "0.01 0.9626739056667798\n",
      "-------------------------\n",
      "0.03 0.9831338411316648\n",
      "0.03 0.9643705463182898\n",
      "-------------------------\n",
      "0.06 0.986126224156692\n",
      "0.06 0.9640312181879878\n",
      "-------------------------\n",
      "0.1 0.9883025027203483\n",
      "0.1 0.9657278588394977\n",
      "-------------------------\n",
      "0.3 0.9912948857453754\n",
      "0.3 0.9653885307091958\n",
      "-------------------------\n",
      "0.6 0.9930631120783461\n",
      "0.6 0.9643705463182898\n",
      "-------------------------\n",
      "1 0.9945593035908596\n",
      "1 0.9643705463182898\n",
      "-------------------------\n",
      "Optimal C =  0.1\n",
      "Training score by Logistic Regression (liblinear) :  0.9883025027203483\n",
      "Test score by Logistic Regression (liblinear) :  0.9657278588394977\n"
     ]
    },
    {
     "data": {
      "image/png": "[encoded data removed]",
      "text/plain": [
       "<matplotlib.figure.Figure at 0x7f1b17bbd240>"
      ]
     },
     "metadata": {},
     "output_type": "display_data"
    }
   ],
   "source": [
    "from sklearn.linear_model import LogisticRegression\n",
    "\n",
    "d=[0.001, 0.003, 0.006, 0.01,0.03,0.06,0.1,0.3,0.6, 1]\n",
    "max_train = 0\n",
    "max_test = 0\n",
    "optimalC = d[0]\n",
    "c_list = []\n",
    "for i in d:\n",
    "    \n",
    "    clf = LogisticRegression(C=i, penalty='l2', random_state=42)\n",
    "    clf.fit(X_train, y_train)\n",
    "    score_train = clf.score(X_train, y_train)\n",
    "    score_test = clf.score(X_test, y_test)\n",
    "    \n",
    "    print(i, score_train)\n",
    "    print(i, score_test)\n",
    "    print('-'*25)\n",
    "    \n",
    "    c_list.append(score_test)\n",
    "    if(score_test > max_test) :\n",
    "        max_test = score_test\n",
    "        max_train = score_train\n",
    "        optimalC = i\n",
    "\n",
    "print(\"Optimal C = \", optimalC)\n",
    "print(\"Training score by Logistic Regression (liblinear) : \", max_train)\n",
    "print(\"Test score by Logistic Regression (liblinear) : \", max_test)\n",
    "plt.plot(d, c_list, 'b', d, c_list, 'o')\n",
    "plt.plot(d[d.index(optimalC)], c_list[d.index(optimalC)], 'ro')\n",
    "plt.xlabel(\"Values of C\")\n",
    "plt.ylabel(\"Test scores\")\n",
    "plt.title(\"Graph of \\\"C vs Test Score\\\"\")\n",
    "plt.show()"
   ]
  },
  {
   "cell_type": "markdown",
   "metadata": {},
   "source": [
    "### Output of Logistic Regression without PCA\n",
    "```\n",
    "Optimal C =  0.1\n",
    "Training score by Logistic Regression (liblinear) :  0.9883025027203483 (approx)\n",
    "Test score by Logistic Regression (liblinear) :  0.9657278588394977 (approx)\n",
    "```\n",
    "### Output of Logistic Regression with PCA\n",
    "```\n",
    "Optimal C =  1\n",
    "Training score by Logistic Regression (liblinear) :  0.9333514689880305 (approx)\n",
    "Test score by Logistic Regression (liblinear) :  0.9182219205972175 (approx)\n",
    "```\n",
    "# Observation \n",
    "Clearly, Result without PCA is quite better than that with PCA. Also, Training score and test score are quite close as well. So, the decision of not using PCA was not wrong. I also tried with other different models like SVM, Random Forest, etc. with PCA and without PCA and each case, not using PCA was the optimal choice. So, from now on, we will not consider the case of using PCA."
   ]
  },
  {
   "cell_type": "markdown",
   "metadata": {},
   "source": [
    " # SVM \n",
    " SVC is a classical Classification Algorithm. It is applied in many classification problem and it performs quite well in both Training set and Test set. In our case, it is performing really good giving accuracy of 0.96 in Test Set, but still overfitting to some extend. When i tried to reduce the overfitting by choosing small value of C, the Test score also went down."
   ]
  },
  {
   "cell_type": "code",
   "execution_count": 20,
   "metadata": {},
   "outputs": [
    {
     "name": "stdout",
     "output_type": "stream",
     "text": [
      "1 0.9866702937976061\n",
      "1 0.9565659993213438\n",
      "-------------------------\n",
      "5 0.9959194776931447\n",
      "5 0.9602986087546658\n",
      "-------------------------\n",
      "10 0.9980957562568009\n",
      "10 0.9596199524940617\n",
      "-------------------------\n",
      "15 0.998911860718172\n",
      "15 0.9599592806243638\n",
      "-------------------------\n",
      "20 0.999727965179543\n",
      "20 0.9589412962334578\n",
      "-------------------------\n",
      "25 1.0\n",
      "25 0.9586019681031558\n",
      "-------------------------\n",
      "30 1.0\n",
      "30 0.9586019681031558\n",
      "-------------------------\n",
      "35 1.0\n",
      "35 0.9596199524940617\n",
      "-------------------------\n",
      "40 1.0\n",
      "40 0.9606379368849678\n",
      "-------------------------\n",
      "45 1.0\n",
      "45 0.9606379368849678\n",
      "-------------------------\n",
      "50 1.0\n",
      "50 0.9606379368849678\n",
      "-------------------------\n",
      "Optimal C =  40\n",
      "Training Score by SVM :  1.0\n",
      "Test Score by SVM :  0.9606379368849678\n"
     ]
    }
   ],
   "source": [
    "from sklearn.svm import SVC\n",
    "\n",
    "max_train = 0\n",
    "max_test = 0\n",
    "svc_list = [1] + [i for i in range(5, 51, 5)]\n",
    "optimalC = svc_list[0]\n",
    "for i in svc_list:\n",
    "    \n",
    "    clf = SVC(C=i, kernel='rbf', random_state=42)\n",
    "    clf.fit(X_train, y_train)\n",
    "    score_train = clf.score(X_train, y_train)\n",
    "    score_test = clf.score(X_test, y_test)\n",
    "    \n",
    "    print(i, score_train)\n",
    "    print(i, score_test)\n",
    "    print('-'*25)\n",
    "    \n",
    "    if(score_test > max_test) :\n",
    "        max_test = score_test\n",
    "        max_train = score_train\n",
    "        optimalC = i\n",
    "\n",
    "print(\"Optimal C = \", optimalC)\n",
    "print(\"Training Score by SVM : \", max_train)\n",
    "print(\"Test Score by SVM : \", max_test)"
   ]
  },
  {
   "cell_type": "code",
   "execution_count": 24,
   "metadata": {},
   "outputs": [
    {
     "name": "stdout",
     "output_type": "stream",
     "text": [
      "depth, estimator =  7 5\n",
      "depth, estimator =  7 10\n",
      "depth, estimator =  7 15\n",
      "depth, estimator =  7 20\n",
      "depth, estimator =  7 25\n",
      "depth, estimator =  7 30\n",
      "depth, estimator =  8 30\n",
      "depth, estimator =  8 50\n",
      "Optimal Depth =  8\n",
      "Optimal Number of Estimators =  50\n",
      "Training Score by Random Forest :  0.9868063112078346\n",
      "Test Score by Random Forest :  0.9205972175093315\n"
     ]
    }
   ],
   "source": [
    "from sklearn.ensemble import RandomForestClassifier\n",
    "max_train = 0\n",
    "max_test = 0\n",
    "optimalDepth = 7\n",
    "optimalEstimator = 10\n",
    "for depth in [7, 8, 9] :\n",
    "    for estimator in range(5, 51, 5) :\n",
    "        model_rfc = RandomForestClassifier(n_estimators=estimator, max_depth=depth, random_state=42)\n",
    "        model_rfc.fit(X_train, y_train)\n",
    "        score_train = model_rfc.score(X_train, y_train)\n",
    "        score_test = model_rfc.score(X_test, y_test)\n",
    "#         print(\"Training Score for %d and %d \", depth, estimator, \" : \", train_score)\n",
    "#         print(\"Validation Score for %d and %d \", depth, estimator,\" : \", val_score)\n",
    "        if(max_test < score_test) :\n",
    "            max_test = score_test\n",
    "            max_train = score_train\n",
    "            optimalDepth = depth\n",
    "            optimalEstimator = estimator\n",
    "            print(\"depth, estimator = \", depth, estimator)\n",
    "            \n",
    "print(\"Optimal Depth = \", optimalDepth)\n",
    "print(\"Optimal Number of Estimators = \", optimalEstimator)\n",
    "print(\"Training Score by Random Forest : \", max_train)\n",
    "print(\"Test Score by Random Forest : \", max_test)"
   ]
  }
 ],
 "metadata": {
  "kernelspec": {
   "display_name": "Python 3",
   "language": "python",
   "name": "python3"
  },
  "language_info": {
   "codemirror_mode": {
    "name": "ipython",
    "version": 3
   },
   "file_extension": ".py",
   "mimetype": "text/x-python",
   "name": "python",
   "nbconvert_exporter": "python",
   "pygments_lexer": "ipython3",
   "version": "3.6.4"
  }
 },
 "nbformat": 4,
 "nbformat_minor": 2
}
