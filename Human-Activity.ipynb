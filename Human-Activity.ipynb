{
 "cells": [
  {
   "cell_type": "code",
   "execution_count": 153,
   "metadata": {},
   "outputs": [],
   "source": [
    "import numpy as np\n",
    "import pandas as pd\n",
    "import matplotlib.pyplot as plt\n",
    "from sklearn.preprocessing import StandardScaler"
   ]
  },
  {
   "cell_type": "code",
   "execution_count": 154,
   "metadata": {},
   "outputs": [],
   "source": [
    "df_train = pd.read_csv('train/X_train.txt', delim_whitespace=True, header=None)\n",
    "df_test = pd.read_csv('test/X_test.txt', delim_whitespace=True, header=None)\n",
    "\n",
    "combine = pd.concat([df_train, df_test])\n",
    "\n",
    "y_train = np.array(pd.read_csv('train/y_train.txt', header=None)).ravel()\n",
    "y_test = np.array(pd.read_csv('test/y_test.txt', header=None)).ravel()\n",
    "df_train.shape, df_test.shape, combine.shape\n",
    "\n",
    "stdScaler = StandardScaler()\n",
    "X = stdScaler.fit_transform(combine.values)\n",
    "X_train = stdScaler.fit_transform(df_train.values)\n",
    "X_test = stdScaler.fit_transform(df_test.values)"
   ]
  },
  {
   "cell_type": "markdown",
   "metadata": {},
   "source": [
    "# Visualizing Output Labels"
   ]
  },
  {
   "cell_type": "code",
   "execution_count": 171,
   "metadata": {},
   "outputs": [
    {
     "data": {
      "text/plain": [
       "[0, 2, 4, 6, 8, 10]"
      ]
     },
     "metadata": {},
     "output_type": "display_data"
    },
    {
     "data": {
      "image/png": "[encoded data removed]",
      "text/plain": [
       "<matplotlib.figure.Figure at 0x7f2ad0251780>"
      ]
     },
     "metadata": {},
     "output_type": "display_data"
    }
   ],
   "source": [
    "labels = ['WALKING', 'WALKING\\nUP', 'WALKING\\nDOWN', 'SITTING', 'STANDING', 'LAYING']\n",
    "# x_labels = np.arange(len(labels))\n",
    "x_labels = [i for i in range(0, 11, 2)]\n",
    "display(x_labels)\n",
    "freq = [0 for i in range(len(labels))]\n",
    "for i in range(len(labels)) :\n",
    "    freq[i] = sum(y_train == i+1)\n",
    "    \n",
    "plt.bar(x_labels, freq)\n",
    "plt.xticks(x_labels, labels)\n",
    "plt.xlabel(\"Labels\")\n",
    "plt.ylabel(\"Frequency of label\")\n",
    "plt.title(\"Output Visualization\")\n",
    "\n",
    "plt.show()"
   ]
  },
  {
   "cell_type": "code",
   "execution_count": 150,
   "metadata": {},
   "outputs": [
    {
     "data": {
      "text/plain": [
       "1073"
      ]
     },
     "execution_count": 150,
     "metadata": {},
     "output_type": "execute_result"
    }
   ],
   "source": [
    "sum(y_train == 2)"
   ]
  },
  {
   "cell_type": "markdown",
   "metadata": {},
   "source": [
    "# Applying PCA\n",
    "\n",
    "Since, the number of attributes is very large, we are applying **PCA** to reduce the dimensions of feature vector."
   ]
  },
  {
   "cell_type": "code",
   "execution_count": 197,
   "metadata": {},
   "outputs": [
    {
     "data": {
      "text/plain": [
       "(7352, 40)"
      ]
     },
     "execution_count": 197,
     "metadata": {},
     "output_type": "execute_result"
    }
   ],
   "source": [
    "from sklearn.decomposition import PCA\n",
    "\n",
    "pca = PCA(n_components=0.85, random_state=42) \n",
    "pca = pca.fit(X_train)\n",
    "Xtrain_pca = pca.transform(X_train)\n",
    "Xtest_pca = pca.transform(X_test)\n",
    "\n",
    "Xtrain_pca.shape"
   ]
  },
  {
   "cell_type": "markdown",
   "metadata": {},
   "source": [
    "We can see that the first principal component accounts for 0.5 variance, (first+second) principal components accounts for 0.57 variance and this gradually decreases further."
   ]
  },
  {
   "cell_type": "code",
   "execution_count": 198,
   "metadata": {},
   "outputs": [
    {
     "data": {
      "text/plain": [
       "array([0.50781172, 0.57361853, 0.60168289, 0.62672242, 0.64560527,\n",
       "       0.66284534, 0.67655545, 0.68854623, 0.69850482, 0.70815569,\n",
       "       0.7167562 , 0.72475901, 0.73239898, 0.73885227, 0.74517551,\n",
       "       0.75117273, 0.75704023, 0.76279431, 0.76847352, 0.77374648,\n",
       "       0.77875011, 0.78363419, 0.78841625, 0.79310188, 0.79759477,\n",
       "       0.80180504, 0.80598483, 0.81004053, 0.81392577, 0.81779595,\n",
       "       0.82145554, 0.82500108, 0.8284805 , 0.83185237, 0.83514914,\n",
       "       0.83843129, 0.84163659, 0.84459274, 0.84745996, 0.85031071])"
      ]
     },
     "metadata": {},
     "output_type": "display_data"
    },
    {
     "data": {
      "image/png": "[encoded data removed]",
      "text/plain": [
       "<matplotlib.figure.Figure at 0x7f2ad0000470>"
      ]
     },
     "metadata": {},
     "output_type": "display_data"
    }
   ],
   "source": [
    "pca_csum = pca.explained_variance_ratio_.cumsum()\n",
    "display(pca_csum)\n",
    "pca_csum_list = []\n",
    "for i in range(len(pca_csum)) :\n",
    "    pca_csum_list.append(pca_csum[i])\n",
    "plt.plot(pca_csum_list, 'b')\n",
    "plt.show()"
   ]
  },
  {
   "cell_type": "code",
   "execution_count": 199,
   "metadata": {},
   "outputs": [],
   "source": [
    "stdScaler = StandardScaler()\n",
    "X_train = stdScaler.fit_transform(Xtrain_pca)\n",
    "X_test = stdScaler.transform(Xtest_pca)\n",
    "# X_train2.shape, X_test2.shape"
   ]
  },
  {
   "cell_type": "code",
   "execution_count": 200,
   "metadata": {},
   "outputs": [],
   "source": [
    "d=[0.001, 0.003, 0.006, 0.01,0.03,0.06,0.1,0.3,0.6, 1]"
   ]
  },
  {
   "cell_type": "markdown",
   "metadata": {},
   "source": [
    "# Logistic Regression "
   ]
  },
  {
   "cell_type": "code",
   "execution_count": 201,
   "metadata": {},
   "outputs": [],
   "source": [
    "from sklearn.linear_model import LogisticRegression"
   ]
  },
  {
   "cell_type": "markdown",
   "metadata": {},
   "source": [
    "### Using Liblinear as *solver*\n",
    "\n",
    "For multiclass problems, **Liblinear** uses one-versus-rest schemes."
   ]
  },
  {
   "cell_type": "code",
   "execution_count": 202,
   "metadata": {
    "scrolled": true
   },
   "outputs": [
    {
     "name": "stdout",
     "output_type": "stream",
     "text": [
      "0.001 0.8962187159956474\n",
      "0.001 0.8927723108245673\n",
      "-------------------------\n",
      "0.003 0.9001632208922742\n",
      "0.003 0.8937902952154734\n",
      "-------------------------\n",
      "0.006 0.904651795429815\n",
      "0.006 0.8971835765184933\n",
      "-------------------------\n",
      "0.01 0.9084602829162133\n",
      "0.01 0.9005768578215134\n",
      "-------------------------\n",
      "0.03 0.9163492927094669\n",
      "0.03 0.9070240922972514\n",
      "-------------------------\n",
      "0.06 0.9217899891186072\n",
      "0.06 0.9087207329487614\n",
      "-------------------------\n",
      "0.1 0.9243743199129488\n",
      "0.1 0.9121140142517815\n",
      "-------------------------\n",
      "0.3 0.9292709466811752\n",
      "0.3 0.9165252799457075\n",
      "-------------------------\n",
      "0.6 0.9317192600652884\n",
      "0.6 0.9158466236851035\n",
      "-------------------------\n",
      "1 0.9333514689880305\n",
      "1 0.9182219205972175\n",
      "-------------------------\n",
      "Optimal C =  1\n",
      "Training score by Logistic Regression (liblinear) :  0.9333514689880305\n",
      "Test score by Logistic Regression (liblinear) :  0.9182219205972175\n"
     ]
    },
    {
     "data": {
      "image/png": "[encoded data removed]",
      "text/plain": [
       "<matplotlib.figure.Figure at 0x7f2ad01d4588>"
      ]
     },
     "metadata": {},
     "output_type": "display_data"
    }
   ],
   "source": [
    "max_train = 0\n",
    "max_test = 0\n",
    "optimalC = d[0]\n",
    "c_list = []\n",
    "for i in d:\n",
    "    \n",
    "    clf = LogisticRegression(C=i, penalty='l2', random_state=42)\n",
    "    clf.fit(X_train, y_train)\n",
    "    score_train = clf.score(X_train, y_train)\n",
    "    score_test = clf.score(X_test, y_test)\n",
    "    \n",
    "    print(i, score_train)\n",
    "    print(i, score_test)\n",
    "    print('-'*25)\n",
    "    \n",
    "    c_list.append(score_test)\n",
    "    if(score_test > max_test) :\n",
    "        max_test = score_test\n",
    "        max_train = score_train\n",
    "        optimalC = i\n",
    "\n",
    "print(\"Optimal C = \", optimalC)\n",
    "print(\"Training score by Logistic Regression (liblinear) : \", max_train)\n",
    "print(\"Test score by Logistic Regression (liblinear) : \", max_test)\n",
    "plt.plot(d, c_list, 'b', d, c_list, 'o')\n",
    "plt.plot(d[d.index(optimalC)], c_list[d.index(optimalC)], 'ro')\n",
    "plt.xlabel(\"Values of C\")\n",
    "plt.ylabel(\"Validation scores\")\n",
    "plt.title(\"Graph of \\\"C vs Validation Score\\\"\")\n",
    "plt.show()"
   ]
  },
  {
   "cell_type": "markdown",
   "metadata": {},
   "source": [
    " # SVM "
   ]
  },
  {
   "cell_type": "code",
   "execution_count": null,
   "metadata": {},
   "outputs": [],
   "source": [
    "# from sklearn.svm import SVC\n",
    "\n",
    "max_train = 0\n",
    "max_test = 0\n",
    "svc_list = [1] + [i for i in range(5, 51, 5)]\n",
    "optimalC = svc_list[0]\n",
    "for i in svc_list:\n",
    "    \n",
    "    clf = SVC(C=i, kernel='rbf', random_state=42)\n",
    "    clf.fit(X_train, y_train)\n",
    "    score_train = clf.score(X_train, y_train)\n",
    "    score_test = clf.score(X_test, y_test)\n",
    "    \n",
    "#     print(i, score_train)\n",
    "#     print(i, score_test)\n",
    "    \n",
    "#     print('-'*25)\n",
    "    if(score_test > max_test) :\n",
    "        max_test = score_test\n",
    "        max_train = score_train\n",
    "        optimalC = i\n",
    "\n",
    "print(\"Optimal C = \", optimalC)\n",
    "print(\"Training score by SVM : \", max_train)\n",
    "print(\"Test score by SVM : \", max_test)"
   ]
  },
  {
   "cell_type": "code",
   "execution_count": null,
   "metadata": {},
   "outputs": [],
   "source": [
    "from sklearn.svm import SVC\n",
    "\n",
    "max_train = 0\n",
    "max_test = 0\n",
    "svc_list = [1] + [i for i in range(5, 51, 5)]\n",
    "optimalC = svc_list\n",
    "for i in svc_list:\n",
    "    \n",
    "    clf = SVC(C=i, kernel='linear', random_state=42)\n",
    "    clf.fit(Xtrain_pca, y_train)\n",
    "    score_train = clf.score(Xtrain_pca, y_train)\n",
    "    score_test = clf.score(Xtest_pca, y_test)\n",
    "    \n",
    "#     print(i, score_train)\n",
    "#     print(i, score_test)\n",
    "    \n",
    "#     print('-'*25)\n",
    "    if(score_test > max_test) :\n",
    "        max_test = score_test\n",
    "        max_train = score_train\n",
    "        optimalC = i\n",
    "\n",
    "print(\"Optimal C = \", optimalC)\n",
    "print(\"Training Error by SVM : \", max_train)\n",
    "print(\"Test Error by SVM : \", max_test)"
   ]
  },
  {
   "cell_type": "code",
   "execution_count": 158,
   "metadata": {},
   "outputs": [
    {
     "name": "stdout",
     "output_type": "stream",
     "text": [
      "depth, estimator =  7 10\n",
      "depth, estimator =  7 20\n",
      "depth, estimator =  7 50\n",
      "depth, estimator =  8 25\n",
      "depth, estimator =  9 20\n",
      "depth, estimator =  9 30\n",
      "depth, estimator =  9 45\n",
      "Optimal Depth =  9\n",
      "Optimal Number of Estimatos =  45\n",
      "Training Score by Random Forest :  0.9929270946681176\n",
      "Test Score by Random Forest :  0.9222938581608415\n"
     ]
    }
   ],
   "source": [
    "from sklearn.ensemble import RandomForestClassifier\n",
    "max_train = 0\n",
    "max_test = 0\n",
    "optimalDepth = 7\n",
    "optimalEstimator = 10\n",
    "for depth in [7, 8, 9] :\n",
    "    for estimator in range(10, 51, 5) :\n",
    "        model_rfc = RandomForestClassifier(n_estimators=estimator, max_depth=depth)\n",
    "        model_rfc.fit(X_train, y_train)\n",
    "        score_train = model_rfc.score(X_train, y_train)\n",
    "        score_test = model_rfc.score(X_test, y_test)\n",
    "#         print(\"Training Score for %d and %d \", depth, estimator, \" : \", train_score)\n",
    "#         print(\"Validation Score for %d and %d \", depth, estimator,\" : \", val_score)\n",
    "        if(max_test < score_test) :\n",
    "            max_test = score_test\n",
    "            max_train = score_train\n",
    "            optimalDepth = depth\n",
    "            optimalEstimator = estimator\n",
    "            print(\"depth, estimator = \", depth, estimator)\n",
    "            \n",
    "print(\"Optimal Depth = \", optimalDepth)\n",
    "print(\"Optimal Number of Estimatos = \", optimalEstimator)\n",
    "print(\"Training Score by Random Forest : \", max_train)\n",
    "print(\"Test Score by Random Forest : \", max_test)"
   ]
  }
 ],
 "metadata": {
  "kernelspec": {
   "display_name": "Python 3",
   "language": "python",
   "name": "python3"
  },
  "language_info": {
   "codemirror_mode": {
    "name": "ipython",
    "version": 3
   },
   "file_extension": ".py",
   "mimetype": "text/x-python",
   "name": "python",
   "nbconvert_exporter": "python",
   "pygments_lexer": "ipython3",
   "version": "3.6.4"
  }
 },
 "nbformat": 4,
 "nbformat_minor": 2
}
