{
 "cells": [
  {
   "cell_type": "code",
   "execution_count": 1,
   "metadata": {
    "_uuid": "691d477751d5d10b308baa72d003b346f9fc97c0"
   },
   "outputs": [],
   "source": [
    "import numpy as np\n",
    "import pandas as pd\n",
    "import matplotlib.pyplot as plt"
   ]
  },
  {
   "cell_type": "code",
   "execution_count": 2,
   "metadata": {
    "_uuid": "c1fae470f26fdfff96d39b433c7ddf44965b3b03"
   },
   "outputs": [
    {
     "data": {
      "text/plain": [
       "((7352, 561), (2947, 561))"
      ]
     },
     "execution_count": 2,
     "metadata": {},
     "output_type": "execute_result"
    }
   ],
   "source": [
    "df_train = pd.read_csv('../input/X_train.txt', delim_whitespace=True, header=None)\n",
    "df_test = pd.read_csv('../input/X_test.txt', delim_whitespace=True, header=None)\n",
    "\n",
    "y = np.array(pd.read_csv('../input/y_train.txt', header=None)).ravel()\n",
    "y_test = np.array(pd.read_csv('../input/y_test.txt', header=None)).ravel()\n",
    "df_train.shape, df_test.shape"
   ]
  },
  {
   "cell_type": "markdown",
   "metadata": {
    "_uuid": "07e6b7172a0fd43b33aa9ed41c06495153cc84ae"
   },
   "source": [
    "# PRE-PROCESSING :\n",
    "It is a good practice to perform feature scaling and mean normalization before applying models like Logistic Regression, SVM, etc. "
   ]
  },
  {
   "cell_type": "code",
   "execution_count": 3,
   "metadata": {
    "_uuid": "f974452bffae59fce1b168b323c145182a8a0ce1"
   },
   "outputs": [],
   "source": [
    "from sklearn.preprocessing import StandardScaler\n",
    "stdScaler = StandardScaler()\n",
    "X = stdScaler.fit_transform(df_train.values)\n",
    "X_test = stdScaler.transform(df_test.values)"
   ]
  },
  {
   "cell_type": "markdown",
   "metadata": {
    "_uuid": "83d3f9afb30bd1cf870d40222736dced0c1ec7a9"
   },
   "source": [
    "# Visualizing Output Labels"
   ]
  },
  {
   "cell_type": "code",
   "execution_count": 4,
   "metadata": {
    "_uuid": "255cfbc268d100dfef3034d8c3217fd90cb82191"
   },
   "outputs": [
    {
     "data": {
      "text/plain": [
       "[0, 2, 4, 6, 8, 10]"
      ]
     },
     "metadata": {},
     "output_type": "display_data"
    },
    {
     "data": {
      "image/png": "[encoded data removed]",
      "text/plain": [
       "<matplotlib.figure.Figure at 0x7f65576b5710>"
      ]
     },
     "metadata": {},
     "output_type": "display_data"
    }
   ],
   "source": [
    "labels = ['WALKING', 'WALKING\\nUP', 'WALKING\\nDOWN', 'SITTING', 'STANDING', 'LAYING']\n",
    "# x_labels = np.arange(len(labels))\n",
    "x_labels = [i for i in range(0, 11, 2)]\n",
    "display(x_labels)\n",
    "freq = [0 for i in range(len(labels))]\n",
    "for i in range(len(labels)) :\n",
    "    freq[i] = sum(y == i+1)\n",
    "    \n",
    "plt.bar(x_labels, freq)\n",
    "plt.xticks(x_labels, labels)\n",
    "plt.xlabel(\"Labels\")\n",
    "plt.ylabel(\"Frequency of label\")\n",
    "plt.title(\"Output Visualization\")\n",
    "\n",
    "plt.show()"
   ]
  },
  {
   "cell_type": "markdown",
   "metadata": {
    "_uuid": "c5bebc457e58b95272d844a6aebd8c58cf0f76a3"
   },
   "source": [
    "Should we use PCA ?\n",
    "====================\n",
    "Since, the dataset contains 10299 instances and 561 attributes. The number of attributes is quite high so it might take time to train the model. Also, large number of attributes can lead to Overfitting. If the model overfits because of large number of attributes, we can use **Principal Component Analysis** (PCA) to reduce the number of attributes so that the model will contain new useful features. But when i trained my model on Logistic, SVM and Random Forest, i observed that the Training Score and Test Score is quite close. It means that our model performs equally good on Training Set and Test Set. This implies that our model do not Overfit, so we do not need to apply PCA here. We can verify that PCA will not increase the Test Score. Before applying PCA, we need to perform Data Centralization. Data centralization is a major step before applying PCA to a Training Set. On applying PCA for the model with variance 0.9, we observe that around only 63 principal components are required and with variance 0.85, around only 40 principal components are required. We will stick with 0.85 variance as a thumb of rule (it is observed that variance \"0.85\" often suits many models quite well)."
   ]
  },
  {
   "cell_type": "code",
   "execution_count": 5,
   "metadata": {
    "_uuid": "ea9a4517c430177b68aa9f7dccf5a1e7d9afa08a"
   },
   "outputs": [
    {
     "data": {
      "text/plain": [
       "(7352, 40)"
      ]
     },
     "execution_count": 5,
     "metadata": {},
     "output_type": "execute_result"
    }
   ],
   "source": [
    "from sklearn.decomposition import PCA\n",
    "\n",
    "pca = PCA(n_components=0.85, random_state=42) \n",
    "pca = pca.fit(X)\n",
    "Xtrain_pca = pca.transform(X)\n",
    "Xtest_pca = pca.transform(X_test)\n",
    "\n",
    "Xtrain_pca.shape"
   ]
  },
  {
   "cell_type": "markdown",
   "metadata": {
    "_uuid": "d0e377d84ace27eb4ae3d773eb737e3d9fd78c20"
   },
   "source": [
    "We can see that the first principal component accounts for 0.5 variance, (first+second) principal components accounts for 0.57 variance and this gradually decreases further."
   ]
  },
  {
   "cell_type": "code",
   "execution_count": 7,
   "metadata": {
    "_uuid": "3d27f55dfb6ce4dcfe90c6754f9974475ed703eb"
   },
   "outputs": [
    {
     "data": {
      "text/plain": [
       "array([0.50781172, 0.57361853, 0.60168289, 0.62672242, 0.64560527,\n",
       "       0.66284534, 0.67655545, 0.68854623, 0.69850482, 0.70815569,\n",
       "       0.7167562 , 0.72475901, 0.73239898, 0.73885227, 0.74517551,\n",
       "       0.75117273, 0.75704023, 0.76279431, 0.76847352, 0.77374648,\n",
       "       0.77875011, 0.78363419, 0.78841625, 0.79310188, 0.79759477,\n",
       "       0.80180504, 0.80598483, 0.81004053, 0.81392577, 0.81779595,\n",
       "       0.82145554, 0.82500108, 0.8284805 , 0.83185237, 0.83514914,\n",
       "       0.83843129, 0.84163659, 0.84459274, 0.84745996, 0.85031071])"
      ]
     },
     "metadata": {},
     "output_type": "display_data"
    },
    {
     "data": {
      "image/png": "[encoded data removed]",
      "text/plain": [
       "<Figure size 432x288 with 1 Axes>"
      ]
     },
     "metadata": {
      "needs_background": "light"
     },
     "output_type": "display_data"
    }
   ],
   "source": [
    "pca_csum = pca.explained_variance_ratio_.cumsum()\n",
    "display(pca_csum)\n",
    "pca_csum_list = []\n",
    "for i in range(len(pca_csum)) :\n",
    "    pca_csum_list.append(pca_csum[i])\n",
    "plt.plot(pca_csum_list, 'b')\n",
    "plt.xlabel(\"Number of principal components\")\n",
    "plt.ylabel(\"Cumulative Variance\")\n",
    "plt.title(\"Principal components vs Cumulative Variance\")\n",
    "plt.show()"
   ]
  },
  {
   "cell_type": "markdown",
   "metadata": {
    "_uuid": "ef0bd669f95b25f1aa0de66b446e94a9cd82db5d"
   },
   "source": [
    "To use the models implement below with pca, do the following in the cell below :\n",
    "- Rename train2 to train\n",
    "- Rename test2 to test"
   ]
  },
  {
   "cell_type": "code",
   "execution_count": 8,
   "metadata": {
    "_uuid": "48eb3ce029d4b3614338415713db6b0ff04b3bf9"
   },
   "outputs": [
    {
     "data": {
      "text/plain": [
       "((7352, 40), (2947, 40))"
      ]
     },
     "execution_count": 8,
     "metadata": {},
     "output_type": "execute_result"
    }
   ],
   "source": [
    "stdScaler = StandardScaler()\n",
    "X2 = stdScaler.fit_transform(Xtrain_pca)\n",
    "X_test2 = stdScaler.transform(Xtest_pca)\n",
    "X2.shape, X_test2.shape"
   ]
  },
  {
   "cell_type": "markdown",
   "metadata": {
    "_uuid": "9becd491ccfaceb255843ecdf32af76090e356ce"
   },
   "source": [
    "# Logistic Regression \n",
    "Here, we are using Logistic Regression with \"liblinear\" solver. LIBLINEAR is an open source library for large-scale linear classification. In our model, Logistic Regression is performing really great with 96.87% accuracy in Test Set."
   ]
  },
  {
   "cell_type": "markdown",
   "metadata": {
    "_uuid": "4db8d73d9986da5cfe96f02fce18b5d941ea5cb5"
   },
   "source": [
    "### Using Liblinear as *solver*\n",
    "\n",
    "For multiclass problems, **Liblinear** uses one-versus-rest schemes."
   ]
  },
  {
   "cell_type": "code",
   "execution_count": null,
   "metadata": {
    "_uuid": "dde27f4b322672bce67e0ef6a48496ab5151b9eb",
    "scrolled": true
   },
   "outputs": [],
   "source": [
    "# from sklearn.linear_model import LogisticRegression\n",
    "\n",
    "# d=[0.001, 0.003, 0.006, 0.01,0.03,0.06,0.1,0.3,0.6, 1]\n",
    "# max_train = 0\n",
    "# max_test = 0\n",
    "# optimalC = d[0]\n",
    "# c_list = []\n",
    "# for i in d:\n",
    "    \n",
    "#     clf = LogisticRegression(C=i, penalty='l2', random_state=42)\n",
    "#     clf.fit(X_train, y_train)\n",
    "#     score_train = clf.score(X_train, y_train)\n",
    "#     score_test = clf.score(X_test, y_test)\n",
    "    \n",
    "#     print(i, score_train)\n",
    "#     print(i, score_test)\n",
    "#     print('-'*25)\n",
    "    \n",
    "#     c_list.append(score_test)\n",
    "#     if(score_test > max_test) :\n",
    "#         max_test = score_test\n",
    "#         max_train = score_train\n",
    "#         optimalC = i\n",
    "\n",
    "# print(\"Optimal C = \", optimalC)\n",
    "# print(\"Training score by Logistic Regression (liblinear) : \", max_train)\n",
    "# print(\"Test score by Logistic Regression (liblinear) : \", max_test)\n",
    "# plt.plot(d, c_list, 'b', d, c_list, 'o')\n",
    "# plt.plot(d[d.index(optimalC)], c_list[d.index(optimalC)], 'ro')\n",
    "# plt.xlabel(\"Values of C\")\n",
    "# plt.ylabel(\"Test scores\")\n",
    "# plt.title(\"Graph of \\\"C vs Test Score\\\"\")\n",
    "# plt.show()"
   ]
  },
  {
   "cell_type": "code",
   "execution_count": null,
   "metadata": {
    "_uuid": "df6931c3b93195ab982f863194c917fa46ae8911"
   },
   "outputs": [],
   "source": [
    "from sklearn.linear_model import LogisticRegression\n",
    "from sklearn.model_selection import StratifiedKFold\n",
    "\n",
    "k = 4\n",
    "kf = StratifiedKFold(n_splits=k, random_state=42)\n",
    "d=[0.001, 0.003, 0.006, 0.01,0.03,0.06,0.1,0.3,0.6, 1]\n",
    "max_train = 0\n",
    "max_val = 0\n",
    "optimalC = d[0]\n",
    "c_list = []\n",
    "\n",
    "for i in d:\n",
    "    score_val = 0\n",
    "    score_train = 0\n",
    "    for train_index, val_index in kf.split(X, y) :\n",
    "        \n",
    "        X_train, X_val = X[train_index], X[val_index]\n",
    "        y_train, y_val = y[train_index], y[val_index]\n",
    "        \n",
    "        clf = LogisticRegression(C=i, penalty='l2', random_state=42)\n",
    "        clf.fit(X_train, y_train)\n",
    "        score_train += clf.score(X_train, y_train)\n",
    "        score_val += clf.score(X_val, y_val)\n",
    "\n",
    "    score_train /= k\n",
    "    score_val /= k\n",
    "    print(i, score_train)\n",
    "    print(i, score_val)\n",
    "    print('-'*25)\n",
    "    c_list.append(score_val)\n",
    "    if(score_val > max_val) :\n",
    "        max_val = score_val\n",
    "        max_train = score_train\n",
    "        optimalC = i"
   ]
  },
  {
   "cell_type": "code",
   "execution_count": null,
   "metadata": {
    "_uuid": "df6931c3b93195ab982f863194c917fa46ae8911"
   },
   "outputs": [],
   "source": [
    "print(\"Optimal C = \", optimalC)\n",
    "print(\"Training score by Logistic Regression (liblinear) : \", max_train)\n",
    "print(\"Validation score by Logistic Regression (liblinear) : \", max_val)\n",
    "plt.plot(d, c_list, 'bo-')\n",
    "plt.plot(optimalC, c_list[d.index(optimalC)], 'ro')\n",
    "plt.xlabel(\"Values of C\")\n",
    "plt.ylabel(\"Validation scores\")\n",
    "plt.title(\"Graph of \\\"C vs Validation Score\\\"\")\n",
    "plt.show()"
   ]
  },
  {
   "cell_type": "markdown",
   "metadata": {
    "_uuid": "b02663e0893662f3461334ac1a3b4c370be2d5ea"
   },
   "source": [
    "Finding split with best validation score for parameter C = optimalC"
   ]
  },
  {
   "cell_type": "code",
   "execution_count": null,
   "metadata": {
    "_uuid": "913bfabb266c619255fefd29e0334a0ea3dadafb",
    "scrolled": true
   },
   "outputs": [],
   "source": [
    "max_val = 0\n",
    "val_list = []\n",
    "best_log = None\n",
    "for train_index, val_index in kf.split(X, y) :\n",
    "    X_train, X_val = X[train_index], X[val_index]\n",
    "    y_train, y_val = y[train_index], y[val_index]\n",
    "    log_clf = LogisticRegression(C=optimalC, random_state=42)\n",
    "    log_clf.fit(X_train, y_train)\n",
    "    \n",
    "    train_score = log_clf.score(X_train, y_train)\n",
    "    val_score = log_clf.score(X_val, y_val)\n",
    "    val_list.append(val_score)\n",
    "    if(max_val < val_score) :\n",
    "        max_val = val_score\n",
    "        best_log = log_clf\n",
    "print(\"Max validation score : \", max_val)\n",
    "print(\"val_list : \", sorted(val_list))\n",
    "\n",
    "test_score = log_clf.score(X_test, y_test)\n",
    "print(\"Test Score by Logistic Regression\", test_score)"
   ]
  },
  {
   "cell_type": "markdown",
   "metadata": {
    "_uuid": "1e061ba94426d7bc3bc2d67d3ce30e01299aa4fa"
   },
   "source": [
    "### Output of Logistic Regression without PCA\n",
    "```\n",
    "Optimal C =  0.1\n",
    "Training score by Logistic Regression (liblinear) :  0.9883025027203483 (approx)\n",
    "Test score by Logistic Regression (liblinear) :  0.9657278588394977 (approx)\n",
    "```\n",
    "### Output of Logistic Regression with PCA\n",
    "```\n",
    "Optimal C =  1\n",
    "Training score by Logistic Regression (liblinear) :  0.9333514689880305 (approx)\n",
    "Test score by Logistic Regression (liblinear) :  0.9182219205972175 (approx)\n",
    "```\n",
    "# Observation \n",
    "Clearly, Result without PCA is quite better than that with PCA. Also, Training score and test score are quite close as well. So, the decision of not using PCA was not wrong. I also tried with other different models like SVM, Random Forest, etc. with PCA and without PCA and in each case, not using PCA was the optimal choice. So, from now on, we will not consider the case of using PCA."
   ]
  },
  {
   "cell_type": "markdown",
   "metadata": {
    "_uuid": "f23de6fe7b717765e34f999e89531996da1201b7"
   },
   "source": [
    " # Support Vector Classifier (SVC)\n",
    " SVC is a classical Classification Algorithm. It is applied in many classification problem. In our case, it is performing really good giving accuracy of 0.96 in Test Set, but still overfitting to some extend. When i tried to reduce the overfitting by choosing small value of C, the Test score also went down."
   ]
  },
  {
   "cell_type": "code",
   "execution_count": 6,
   "metadata": {
    "_uuid": "6fdb9fe3995d7203cbfdcc66b0f37959a88e30f3"
   },
   "outputs": [
    {
     "ename": "KeyboardInterrupt",
     "evalue": "",
     "output_type": "error",
     "traceback": [
      "\u001b[0;31m---------------------------------------------------------------------------\u001b[0m",
      "\u001b[0;31mKeyboardInterrupt\u001b[0m                         Traceback (most recent call last)",
      "\u001b[0;32m<ipython-input-6-9f3e6bb6dc4f>\u001b[0m in \u001b[0;36m<module>\u001b[0;34m()\u001b[0m\n\u001b[1;32m     18\u001b[0m         \u001b[0mclf\u001b[0m \u001b[0;34m=\u001b[0m \u001b[0mSVC\u001b[0m\u001b[0;34m(\u001b[0m\u001b[0mC\u001b[0m\u001b[0;34m=\u001b[0m\u001b[0mi\u001b[0m\u001b[0;34m,\u001b[0m \u001b[0mkernel\u001b[0m\u001b[0;34m=\u001b[0m\u001b[0;34m'rbf'\u001b[0m\u001b[0;34m,\u001b[0m \u001b[0mrandom_state\u001b[0m\u001b[0;34m=\u001b[0m\u001b[0;36m42\u001b[0m\u001b[0;34m)\u001b[0m\u001b[0;34m\u001b[0m\u001b[0m\n\u001b[1;32m     19\u001b[0m         \u001b[0mclf\u001b[0m\u001b[0;34m.\u001b[0m\u001b[0mfit\u001b[0m\u001b[0;34m(\u001b[0m\u001b[0mX_train\u001b[0m\u001b[0;34m,\u001b[0m \u001b[0my_train\u001b[0m\u001b[0;34m)\u001b[0m\u001b[0;34m\u001b[0m\u001b[0m\n\u001b[0;32m---> 20\u001b[0;31m         \u001b[0mscore_train\u001b[0m \u001b[0;34m+=\u001b[0m \u001b[0mclf\u001b[0m\u001b[0;34m.\u001b[0m\u001b[0mscore\u001b[0m\u001b[0;34m(\u001b[0m\u001b[0mX_train\u001b[0m\u001b[0;34m,\u001b[0m \u001b[0my_train\u001b[0m\u001b[0;34m)\u001b[0m\u001b[0;34m\u001b[0m\u001b[0m\n\u001b[0m\u001b[1;32m     21\u001b[0m         \u001b[0mscore_val\u001b[0m \u001b[0;34m+=\u001b[0m \u001b[0mclf\u001b[0m\u001b[0;34m.\u001b[0m\u001b[0mscore\u001b[0m\u001b[0;34m(\u001b[0m\u001b[0mX_val\u001b[0m\u001b[0;34m,\u001b[0m \u001b[0my_val\u001b[0m\u001b[0;34m)\u001b[0m\u001b[0;34m\u001b[0m\u001b[0m\n\u001b[1;32m     22\u001b[0m \u001b[0;34m\u001b[0m\u001b[0m\n",
      "\u001b[0;32m~/anaconda3/lib/python3.6/site-packages/sklearn/base.py\u001b[0m in \u001b[0;36mscore\u001b[0;34m(self, X, y, sample_weight)\u001b[0m\n\u001b[1;32m    347\u001b[0m         \"\"\"\n\u001b[1;32m    348\u001b[0m         \u001b[0;32mfrom\u001b[0m \u001b[0;34m.\u001b[0m\u001b[0mmetrics\u001b[0m \u001b[0;32mimport\u001b[0m \u001b[0maccuracy_score\u001b[0m\u001b[0;34m\u001b[0m\u001b[0m\n\u001b[0;32m--> 349\u001b[0;31m         \u001b[0;32mreturn\u001b[0m \u001b[0maccuracy_score\u001b[0m\u001b[0;34m(\u001b[0m\u001b[0my\u001b[0m\u001b[0;34m,\u001b[0m \u001b[0mself\u001b[0m\u001b[0;34m.\u001b[0m\u001b[0mpredict\u001b[0m\u001b[0;34m(\u001b[0m\u001b[0mX\u001b[0m\u001b[0;34m)\u001b[0m\u001b[0;34m,\u001b[0m \u001b[0msample_weight\u001b[0m\u001b[0;34m=\u001b[0m\u001b[0msample_weight\u001b[0m\u001b[0;34m)\u001b[0m\u001b[0;34m\u001b[0m\u001b[0m\n\u001b[0m\u001b[1;32m    350\u001b[0m \u001b[0;34m\u001b[0m\u001b[0m\n\u001b[1;32m    351\u001b[0m \u001b[0;34m\u001b[0m\u001b[0m\n",
      "\u001b[0;32m~/anaconda3/lib/python3.6/site-packages/sklearn/svm/base.py\u001b[0m in \u001b[0;36mpredict\u001b[0;34m(self, X)\u001b[0m\n\u001b[1;32m    546\u001b[0m             \u001b[0mClass\u001b[0m \u001b[0mlabels\u001b[0m \u001b[0;32mfor\u001b[0m \u001b[0msamples\u001b[0m \u001b[0;32min\u001b[0m \u001b[0mX\u001b[0m\u001b[0;34m.\u001b[0m\u001b[0;34m\u001b[0m\u001b[0m\n\u001b[1;32m    547\u001b[0m         \"\"\"\n\u001b[0;32m--> 548\u001b[0;31m         \u001b[0my\u001b[0m \u001b[0;34m=\u001b[0m \u001b[0msuper\u001b[0m\u001b[0;34m(\u001b[0m\u001b[0mBaseSVC\u001b[0m\u001b[0;34m,\u001b[0m \u001b[0mself\u001b[0m\u001b[0;34m)\u001b[0m\u001b[0;34m.\u001b[0m\u001b[0mpredict\u001b[0m\u001b[0;34m(\u001b[0m\u001b[0mX\u001b[0m\u001b[0;34m)\u001b[0m\u001b[0;34m\u001b[0m\u001b[0m\n\u001b[0m\u001b[1;32m    549\u001b[0m         \u001b[0;32mreturn\u001b[0m \u001b[0mself\u001b[0m\u001b[0;34m.\u001b[0m\u001b[0mclasses_\u001b[0m\u001b[0;34m.\u001b[0m\u001b[0mtake\u001b[0m\u001b[0;34m(\u001b[0m\u001b[0mnp\u001b[0m\u001b[0;34m.\u001b[0m\u001b[0masarray\u001b[0m\u001b[0;34m(\u001b[0m\u001b[0my\u001b[0m\u001b[0;34m,\u001b[0m \u001b[0mdtype\u001b[0m\u001b[0;34m=\u001b[0m\u001b[0mnp\u001b[0m\u001b[0;34m.\u001b[0m\u001b[0mintp\u001b[0m\u001b[0;34m)\u001b[0m\u001b[0;34m)\u001b[0m\u001b[0;34m\u001b[0m\u001b[0m\n\u001b[1;32m    550\u001b[0m \u001b[0;34m\u001b[0m\u001b[0m\n",
      "\u001b[0;32m~/anaconda3/lib/python3.6/site-packages/sklearn/svm/base.py\u001b[0m in \u001b[0;36mpredict\u001b[0;34m(self, X)\u001b[0m\n\u001b[1;32m    308\u001b[0m         \u001b[0mX\u001b[0m \u001b[0;34m=\u001b[0m \u001b[0mself\u001b[0m\u001b[0;34m.\u001b[0m\u001b[0m_validate_for_predict\u001b[0m\u001b[0;34m(\u001b[0m\u001b[0mX\u001b[0m\u001b[0;34m)\u001b[0m\u001b[0;34m\u001b[0m\u001b[0m\n\u001b[1;32m    309\u001b[0m         \u001b[0mpredict\u001b[0m \u001b[0;34m=\u001b[0m \u001b[0mself\u001b[0m\u001b[0;34m.\u001b[0m\u001b[0m_sparse_predict\u001b[0m \u001b[0;32mif\u001b[0m \u001b[0mself\u001b[0m\u001b[0;34m.\u001b[0m\u001b[0m_sparse\u001b[0m \u001b[0;32melse\u001b[0m \u001b[0mself\u001b[0m\u001b[0;34m.\u001b[0m\u001b[0m_dense_predict\u001b[0m\u001b[0;34m\u001b[0m\u001b[0m\n\u001b[0;32m--> 310\u001b[0;31m         \u001b[0;32mreturn\u001b[0m \u001b[0mpredict\u001b[0m\u001b[0;34m(\u001b[0m\u001b[0mX\u001b[0m\u001b[0;34m)\u001b[0m\u001b[0;34m\u001b[0m\u001b[0m\n\u001b[0m\u001b[1;32m    311\u001b[0m \u001b[0;34m\u001b[0m\u001b[0m\n\u001b[1;32m    312\u001b[0m     \u001b[0;32mdef\u001b[0m \u001b[0m_dense_predict\u001b[0m\u001b[0;34m(\u001b[0m\u001b[0mself\u001b[0m\u001b[0;34m,\u001b[0m \u001b[0mX\u001b[0m\u001b[0;34m)\u001b[0m\u001b[0;34m:\u001b[0m\u001b[0;34m\u001b[0m\u001b[0m\n",
      "\u001b[0;32m~/anaconda3/lib/python3.6/site-packages/sklearn/svm/base.py\u001b[0m in \u001b[0;36m_dense_predict\u001b[0;34m(self, X)\u001b[0m\n\u001b[1;32m    331\u001b[0m             \u001b[0mself\u001b[0m\u001b[0;34m.\u001b[0m\u001b[0mprobA_\u001b[0m\u001b[0;34m,\u001b[0m \u001b[0mself\u001b[0m\u001b[0;34m.\u001b[0m\u001b[0mprobB_\u001b[0m\u001b[0;34m,\u001b[0m \u001b[0msvm_type\u001b[0m\u001b[0;34m=\u001b[0m\u001b[0msvm_type\u001b[0m\u001b[0;34m,\u001b[0m \u001b[0mkernel\u001b[0m\u001b[0;34m=\u001b[0m\u001b[0mkernel\u001b[0m\u001b[0;34m,\u001b[0m\u001b[0;34m\u001b[0m\u001b[0m\n\u001b[1;32m    332\u001b[0m             \u001b[0mdegree\u001b[0m\u001b[0;34m=\u001b[0m\u001b[0mself\u001b[0m\u001b[0;34m.\u001b[0m\u001b[0mdegree\u001b[0m\u001b[0;34m,\u001b[0m \u001b[0mcoef0\u001b[0m\u001b[0;34m=\u001b[0m\u001b[0mself\u001b[0m\u001b[0;34m.\u001b[0m\u001b[0mcoef0\u001b[0m\u001b[0;34m,\u001b[0m \u001b[0mgamma\u001b[0m\u001b[0;34m=\u001b[0m\u001b[0mself\u001b[0m\u001b[0;34m.\u001b[0m\u001b[0m_gamma\u001b[0m\u001b[0;34m,\u001b[0m\u001b[0;34m\u001b[0m\u001b[0m\n\u001b[0;32m--> 333\u001b[0;31m             cache_size=self.cache_size)\n\u001b[0m\u001b[1;32m    334\u001b[0m \u001b[0;34m\u001b[0m\u001b[0m\n\u001b[1;32m    335\u001b[0m     \u001b[0;32mdef\u001b[0m \u001b[0m_sparse_predict\u001b[0m\u001b[0;34m(\u001b[0m\u001b[0mself\u001b[0m\u001b[0;34m,\u001b[0m \u001b[0mX\u001b[0m\u001b[0;34m)\u001b[0m\u001b[0;34m:\u001b[0m\u001b[0;34m\u001b[0m\u001b[0m\n",
      "\u001b[0;31mKeyboardInterrupt\u001b[0m: "
     ]
    }
   ],
   "source": [
    "from sklearn.svm import SVC\n",
    "from sklearn.model_selection import StratifiedKFold\n",
    "\n",
    "k = 5\n",
    "kf = StratifiedKFold(n_splits=k, random_state=42)\n",
    "max_train = 0\n",
    "max_val = 0\n",
    "svc_list = [1] + [i for i in range(5, 51, 5)]\n",
    "optimalC = svc_list[0]\n",
    "for i in svc_list:\n",
    "    \n",
    "    score_train = 0\n",
    "    score_val = 0\n",
    "    for train_index, val_index in kf.split(X, y) :\n",
    "        X_train, X_val = X[train_index], X[val_index]\n",
    "        y_train, y_val = y[train_index], y[val_index]\n",
    "        \n",
    "        clf = SVC(C=i, kernel='rbf', random_state=42)\n",
    "        clf.fit(X_train, y_train)\n",
    "        score_train += clf.score(X_train, y_train)\n",
    "        score_val += clf.score(X_val, y_val)\n",
    "\n",
    "    score_train /= k\n",
    "    score_val /= k\n",
    "    \n",
    "    print(i, score_train)\n",
    "    print(i, score_val)\n",
    "    print('-'*25)\n",
    "\n",
    "    if(score_val > max_val) :\n",
    "        max_val = score_val\n",
    "        max_train = score_train\n",
    "        optimalC = i\n",
    "\n",
    "print(\"Optimal C = \", optimalC)\n",
    "print(\"Training Score by SVM : \", max_train)\n",
    "print(\"Validation Score by SVM : \", max_val)"
   ]
  },
  {
   "cell_type": "code",
   "execution_count": null,
   "metadata": {
    "_uuid": "4748087746bccbc91f2a4d548c529d560c937189"
   },
   "outputs": [],
   "source": [
    "max_val = 0\n",
    "val_list = []\n",
    "best_log = None\n",
    "for train_index, val_index in kf.split(X, y) :\n",
    "    X_train, X_val = X[train_index], X[val_index]\n",
    "    y_train, y_val = y[train_index], y[val_index]\n",
    "    log_clf = SVC(C=i, random_state=42)\n",
    "    log_clf.fit(X_train, y_train)\n",
    "    \n",
    "    train_score = log_clf.score(X_train, y_train)\n",
    "    val_score = log_clf.score(X_val, y_val)\n",
    "    val_list.append(val_score)\n",
    "    if(max_val < val_score) :\n",
    "        max_val = val_score\n",
    "        best_log = log_clf\n",
    "print(\"Max validation score : \", max_val)\n",
    "print(\"val_list : \", sorted(val_list))\n",
    "\n",
    "test_score = log_clf.score(X_test, y_test)\n",
    "print(\"Test Score by Logistic Regression\", test_score)"
   ]
  },
  {
   "cell_type": "code",
   "execution_count": null,
   "metadata": {
    "_uuid": "8d4e457346a11b3afa8d92f3e5cbf62a78f89dba"
   },
   "outputs": [],
   "source": [
    "from sklearn.svm import SVC\n",
    "\n",
    "max_train = 0\n",
    "max_test = 0\n",
    "svc_list = [1] + [i for i in range(5, 51, 5)]\n",
    "optimalC = svc_list[0]\n",
    "for i in svc_list:\n",
    "    \n",
    "    clf = SVC(C=i, kernel='rbf', random_state=42)\n",
    "    clf.fit(X_train, y_train)\n",
    "    score_train = clf.score(X_train, y_train)\n",
    "    score_test = clf.score(X_test, y_test)\n",
    "    \n",
    "    print(i, score_train)\n",
    "    print(i, score_test)\n",
    "    print('-'*25)\n",
    "    \n",
    "    if(score_test > max_test) :\n",
    "        max_test = score_test\n",
    "        max_train = score_train\n",
    "        optimalC = i\n",
    "\n",
    "print(\"Optimal C = \", optimalC)\n",
    "print(\"Training Score by SVM : \", max_train)\n",
    "print(\"Test Score by SVM : \", max_test)"
   ]
  },
  {
   "cell_type": "markdown",
   "metadata": {
    "_uuid": "2daba1719e65abfa045699b05d744d4e2bc273cf"
   },
   "source": [
    " # Applying Random Forest Classifier\n",
    "Random Forest Classifier generally performs really well but in this case, it is overfitting as we can see that training score and test score have significant difference."
   ]
  },
  {
   "cell_type": "code",
   "execution_count": null,
   "metadata": {
    "_uuid": "9f4e61fe58e8d2f1e1d6b6b47d7dd5335f494bd6"
   },
   "outputs": [],
   "source": [
    "from sklearn.ensemble import RandomForestClassifier\n",
    "max_train = 0\n",
    "max_test = 0\n",
    "optimalDepth = 7\n",
    "optimalEstimator = 10\n",
    "for depth in [7, 8, 9] :\n",
    "    for estimator in range(5, 51, 5) :\n",
    "        model_rfc = RandomForestClassifier(n_estimators=estimator, max_depth=depth, random_state=42)\n",
    "        model_rfc.fit(X_train, y_train)\n",
    "        score_train = model_rfc.score(X_train, y_train)\n",
    "        score_test = model_rfc.score(X_test, y_test)\n",
    "#         print(\"Training Score for %d and %d \", depth, estimator, \" : \", train_score)\n",
    "#         print(\"Validation Score for %d and %d \", depth, estimator,\" : \", val_score)\n",
    "        if(max_test < score_test) :\n",
    "            max_test = score_test\n",
    "            max_train = score_train\n",
    "            optimalDepth = depth\n",
    "            optimalEstimator = estimator\n",
    "            print(\"depth, estimator = \", depth, estimator)\n",
    "            \n",
    "print(\"Optimal Depth = \", optimalDepth)\n",
    "print(\"Optimal Number of Estimators = \", optimalEstimator)\n",
    "print(\"Training Score by Random Forest : \", max_train)\n",
    "print(\"Test Score by Random Forest : \", max_test)"
   ]
  }
 ],
 "metadata": {
  "kernelspec": {
   "display_name": "Python 3",
   "language": "python",
   "name": "python3"
  },
  "language_info": {
   "codemirror_mode": {
    "name": "ipython",
    "version": 3
   },
   "file_extension": ".py",
   "mimetype": "text/x-python",
   "name": "python",
   "nbconvert_exporter": "python",
   "pygments_lexer": "ipython3",
   "version": "3.6.4"
  }
 },
 "nbformat": 4,
 "nbformat_minor": 1
}
