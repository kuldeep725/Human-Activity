{
  "cells": [
    {
      "metadata": {
        "_uuid": "38f9e3624bead37a1c3b1ba9e8327fdfda4ffd4b"
      },
      "cell_type": "markdown",
      "source": "   **Name**             :  Kuldeep Singh Bhandari\n   \n   **Roll number**  : 111601009\n   \n**Aim**                    :  Applying multi-class classification on Human-Activity Recognition Dataset"
    },
    {
      "metadata": {
        "_uuid": "3f04c9682112868d79a91a47ad67ebc8a57ccc73"
      },
      "cell_type": "markdown",
      "source": "# Problem Statement :\nThe experiments have been carried out with a group of 30 volunteers within an age bracket of 19-48 years. Each person performed six activities (WALKING, WALKING_UPSTAIRS, WALKING_DOWNSTAIRS, SITTING, STANDING, LAYING) wearing a smartphone (Samsung Galaxy S II) on the waist. Using its embedded accelerometer and gyroscope, it has captured 3-axial linear acceleration and 3-axial angular velocity at a constant rate of 50Hz. The experiments have been video-recorded to label the data manually. The obtained dataset has been randomly partitioned into two sets, where 70% of the volunteers was selected for generating the training data and 30% the test data. Propose a good multi class classification method."
    },
    {
      "metadata": {
        "_uuid": "65412e058cdd997bb0afe0ee935bb8448b8bb69c"
      },
      "cell_type": "markdown",
      "source": "# Importing Libraries"
    },
    {
      "metadata": {
        "trusted": true,
        "_uuid": "691d477751d5d10b308baa72d003b346f9fc97c0"
      },
      "cell_type": "code",
      "source": "import numpy as np\nimport pandas as pd\nimport matplotlib.pyplot as plt\nfrom sklearn.model_selection import StratifiedKFold",
      "execution_count": 13,
      "outputs": []
    },
    {
      "metadata": {
        "_uuid": "e0f0407305864867ce61cb530567a6e37efad6f4"
      },
      "cell_type": "markdown",
      "source": "# Read the csv files"
    },
    {
      "metadata": {
        "trusted": true,
        "_uuid": "c1fae470f26fdfff96d39b433c7ddf44965b3b03"
      },
      "cell_type": "code",
      "source": "df_train = pd.read_csv('../input/X_train.txt', delim_whitespace=True, header=None)\ndf_test = pd.read_csv('../input/X_test.txt', delim_whitespace=True, header=None)\n\ny = np.array(pd.read_csv('../input/y_train.txt', header=None)).ravel()\ny_test = np.array(pd.read_csv('../input/y_test.txt', header=None)).ravel()\n\nk = 5\nkf = StratifiedKFold(n_splits=k, random_state=42)\n\ndf_train.shape, df_test.shape",
      "execution_count": 14,
      "outputs": [
        {
          "output_type": "execute_result",
          "execution_count": 14,
          "data": {
            "text/plain": "((7352, 561), (2947, 561))"
          },
          "metadata": {}
        }
      ]
    },
    {
      "metadata": {
        "_uuid": "07e6b7172a0fd43b33aa9ed41c06495153cc84ae"
      },
      "cell_type": "markdown",
      "source": "# PRE-PROCESSING :\nIt is a good practice to perform feature scaling and mean normalization before applying models like Logistic Regression, SVM, etc. "
    },
    {
      "metadata": {
        "trusted": true,
        "_uuid": "f974452bffae59fce1b168b323c145182a8a0ce1"
      },
      "cell_type": "code",
      "source": "from sklearn.preprocessing import StandardScaler\nstdScaler = StandardScaler()\nX = stdScaler.fit_transform(df_train.values)\nX_test = stdScaler.transform(df_test.values)",
      "execution_count": 6,
      "outputs": []
    },
    {
      "metadata": {
        "_uuid": "83d3f9afb30bd1cf870d40222736dced0c1ec7a9"
      },
      "cell_type": "markdown",
      "source": "# Visualizing Output Labels"
    },
    {
      "metadata": {
        "trusted": true,
        "_uuid": "255cfbc268d100dfef3034d8c3217fd90cb82191"
      },
      "cell_type": "code",
      "source": "labels = ['WALKING', 'WALKING\\nUP', 'WALKING\\nDOWN', 'SITTING', 'STANDING', 'LAYING']\n# x_labels = np.arange(len(labels))\nx_labels = [i for i in range(0, 11, 2)]\ndisplay(x_labels)\nfreq = [0 for i in range(len(labels))]\nfor i in range(len(labels)) :\n    freq[i] = sum(y == i+1)\n    \nplt.bar(x_labels, freq)\nplt.xticks(x_labels, labels)\nplt.xlabel(\"Labels\")\nplt.ylabel(\"Frequency of label\")\nplt.title(\"Output Visualization\")\n\nplt.show()",
      "execution_count": null,
      "outputs": []
    },
    {
      "metadata": {
        "_uuid": "818a5c5897156ebd7e291dff38a1b2066edfce46"
      },
      "cell_type": "markdown",
      "source": "#  Should PCA be used?\nSince, the dataset contains 10299 instances and 561 attributes. The number of attributes is quite high so it might take time to train the model. Also, large number of attributes can lead to Overfitting. If the model overfits because of large number of attributes, we can use Principal Component Analysis (PCA) to reduce the number of attributes so that the model will contain new useful features. On applying PCA in the given dataset with variance 0.9, we observe that around only 63 principal components are required and with variance 0.85, around only 40 principal components are required. But when i trained my model on Logistic, SVM and Random Forest, i observed that the Training Score and Validation Score is not improving, rather it is decreasing. This may be happening because when we are applying PCA with variance 0.85, we may be losing some useful feature and because of that our model is not getting properly trained with PCA. So, in this case, it is better to train the model without PCA so that our model will be properly trained with all the useful features.\n\nWe can verify that PCA will not increase the Test Score. Before applying PCA, we need to perform Data Centralization. Data centralization is a major step before applying PCA to a Data Set.  Below is a sample output we observed after applying Logistic Regression to the model with PCA and without PCA. The performance of the model without PCA is way better than that with PCA. \n"
    },
    {
      "metadata": {
        "_uuid": "6f90fad76f620aad2848651e73de4bf1cc4f4507"
      },
      "cell_type": "markdown",
      "source": "### Output of Logistic Regression without PCA\n```\nTraining score by Logistic Regression (liblinear) :  0.9954435931849224\nValidation score by Logistic Regression (liblinear) :  0.9392274925705115\nTest score by Logistic Regression (liblinear) :  0.9657278588394977\n```\n\n   ### Output of Logistic Regression with PCA\n```\nTraining score by Logistic Regression (liblinear) :  0.9333514689880305\nValidation score by Logistic Regression (liblinear) : 0.9292182182181\nTest score by Logistic Regression (liblinear) :  0.9182219205972175\n```"
    },
    {
      "metadata": {
        "_uuid": "fb01b76bfbfa34b00da7fd280830ebbee14228b3"
      },
      "cell_type": "markdown",
      "source": "# Using Cross-validation set\nLearning the parameters of a prediction function and testing it on the same data is a methodological mistake: a model that would just repeat the labels of the samples that it has just seen would have a perfect score but would fail to predict anything useful on yet-unseen data. This situation is called **overfitting**. To avoid it, it is common practice when performing a (supervised) machine learning experiment to hold out part of the available data as a Validation Set : X_val and y_val."
    },
    {
      "metadata": {
        "_uuid": "f9330414ce7bc2fbc34252a643dc2351f8277a6d"
      },
      "cell_type": "markdown",
      "source": "# Model Selection\nHere, i am using k-fold technique to split the given Dataset into k-different folds using one fold as Validation Set and rest as Training Set. We have to do this with every fold (all k-folds), that is, keep one fold as Validation Set and rest as Training Set.  In each split we will train our model and estimate the correct model parameters by analyzing the accuracy in Validation Set for each parameter in different splits of Dataset. The parameters which performs the best will be chosen for the model predicting the Test Data.  "
    },
    {
      "metadata": {
        "_uuid": "e5c55da3807a29a873c9ae6fe09ef293560a4d87"
      },
      "cell_type": "markdown",
      "source": "# Finding best parameters\nTo find best parameters for a model, we will be doing k-split to the Dataset and for each parameter, we will be  calculating its performance on each split and we will take the mean of validation scores obtained in each split and we will measure that score with the best score we have observed so far and if this parameter is better than the best parameter, then mark this parameter as the best parameter. Then, after finding the best parameter, we will find the split which gives best Validation Score for the model with this best parameter. And we will use this model to predict the test dataset."
    },
    {
      "metadata": {
        "_uuid": "9becd491ccfaceb255843ecdf32af76090e356ce"
      },
      "cell_type": "markdown",
      "source": "# Logistic Regression \nHere, we are using Logistic Regression with \"liblinear\" solver. LIBLINEAR is an open source library for large-scale linear classification. In our model, Logistic Regression is performing really great with around 96% accuracy in Test Set."
    },
    {
      "metadata": {
        "_uuid": "4db8d73d9986da5cfe96f02fce18b5d941ea5cb5"
      },
      "cell_type": "markdown",
      "source": "### Using Liblinear as *solver*\n\nFor multiclass problems, **Liblinear** uses one-versus-rest schemes."
    },
    {
      "metadata": {
        "trusted": true,
        "_uuid": "df6931c3b93195ab982f863194c917fa46ae8911"
      },
      "cell_type": "code",
      "source": "from sklearn.linear_model import LogisticRegression\n\nd=[0.001, 0.01, 0.1,0.3, 0.6, 1, 10, 100]\nmax_train = 0\nmax_val = 0\noptimalC = d[0]\nc_list = []\n\nfor i in d:\n    score_val = 0\n    score_train = 0\n    for train_index, val_index in kf.split(X, y) :\n        \n        X_train, X_val = X[train_index], X[val_index]\n        y_train, y_val = y[train_index], y[val_index]\n        \n        clf = LogisticRegression(C=i, penalty='l2', random_state=42)\n        clf.fit(X_train, y_train)\n        score_train += clf.score(X_train, y_train)\n        score_val += clf.score(X_val, y_val)\n\n    score_train /= k\n    score_val /= k\n    print(i, score_train)\n    print(i, score_val)\n    print('-'*25)\n    c_list.append(score_val)\n    if(score_val > max_val) :\n        max_val = score_val\n        max_train = score_train\n        optimalC = i\nprint(\"Optimal C = \", optimalC)\nprint(\"Training score by Logistic Regression (liblinear) : \", max_train)\nprint(\"Validation score by Logistic Regression (liblinear) : \", max_val)\nplt.plot(d, c_list, 'bo-')\nplt.plot(optimalC, c_list[d.index(optimalC)], 'ro')\nplt.xlabel(\"Values of C\")\nplt.ylabel(\"Validation scores\")\nplt.title(\"Graph of \\\"C vs Validation Score\\\" (Logistic)\")\nplt.show()",
      "execution_count": null,
      "outputs": []
    },
    {
      "metadata": {
        "_uuid": "b02663e0893662f3461334ac1a3b4c370be2d5ea"
      },
      "cell_type": "markdown",
      "source": "Finding split with best validation score for parameter C = optimalC and using the model with best Validation score and parameter optimalC to predict the test dataset "
    },
    {
      "metadata": {
        "trusted": true,
        "scrolled": true,
        "_uuid": "913bfabb266c619255fefd29e0334a0ea3dadafb"
      },
      "cell_type": "code",
      "source": "max_val = 0\nval_list = []\nbest_log = None\ny_pred = []\nbest_yval = []\n\nfor train_index, val_index in kf.split(X, y) :\n    X_train, X_val = X[train_index], X[val_index]\n    y_train, y_val = y[train_index], y[val_index]\n    log_clf = LogisticRegression(C=optimalC, random_state=42)\n    log_clf.fit(X_train, y_train)\n    \n    train_score = log_clf.score(X_train, y_train)\n    val_score = log_clf.score(X_val, y_val)\n    val_list.append(val_score)\n    if(max_val < val_score) :\n        max_val = val_score\n        best_log = log_clf\n        y_pred = log_clf.predict(X_val)\n        best_yval = y_val\nprint(\"Max validation score : \", max_val)\nprint(\"val_list : \", sorted(val_list))\n\ntest_score = best_log.score(X_test, y_test)\nprint(\"Test Score by Logistic Regression\", test_score)",
      "execution_count": null,
      "outputs": []
    },
    {
      "metadata": {
        "_uuid": "def5257a9ae28d5ed26ffa7ca33773e6906dda99"
      },
      "cell_type": "markdown",
      "source": "# Confusion Matrix analysis for Logistic Regression"
    },
    {
      "metadata": {
        "trusted": true,
        "_uuid": "46a19bd0cb21a0db90b222a05fea171025d8fae0"
      },
      "cell_type": "code",
      "source": "# For logistic \nfrom sklearn.metrics import confusion_matrix\nfrom sklearn.metrics import f1_score\ndisplay(confusion_matrix(best_yval, y_pred))\ndisplay(f1_score(best_yval, y_pred, average='micro'))",
      "execution_count": null,
      "outputs": []
    },
    {
      "metadata": {
        "_uuid": "f23de6fe7b717765e34f999e89531996da1201b7"
      },
      "cell_type": "markdown",
      "source": " # Support Vector Classifier (SVC)\n SVC is a classical Classification Algorithm. It is applied in many classification problem. In our case, it is performing really good giving  around 95 % accuracy in Test Set, but still overfitting to some extend. When i tried to reduce the overfitting by choosing small value of C, the Test score also went down."
    },
    {
      "metadata": {
        "trusted": true,
        "_uuid": "6fdb9fe3995d7203cbfdcc66b0f37959a88e30f3"
      },
      "cell_type": "code",
      "source": "from sklearn.svm import SVC\n\nmax_train = 0\nmax_val = 0\nsvc_list = [1] + [i for i in range(5, 31, 5)]\noptimalC = svc_list[0]\nc_vs_validation = [] \nfor i in svc_list:\n    \n    score_train = 0\n    score_val = 0\n    for train_index, val_index in kf.split(X, y) :\n        X_train, X_val = X[train_index], X[val_index]\n        y_train, y_val = y[train_index], y[val_index]\n        \n        clf = SVC(C=i, kernel='rbf', random_state=42)\n        clf.fit(X_train, y_train)\n        score_train += clf.score(X_train, y_train)\n        score_val += clf.score(X_val, y_val)\n\n    score_train /= k\n    score_val /= k\n    \n    print(i, score_train)\n    print(i, score_val)\n    print('-'*25)\n    c_vs_validation.append(score_val)\n\n    if(score_val > max_val) :\n        max_val = score_val\n        max_train = score_train\n        optimalC = i\n\nprint(\"Optimal C = \", optimalC)\nprint(\"Training Score by SVM : \", max_train)\nprint(\"Validation Score by SVM : \", max_val)\nplt.plot(svc_list, c_vs_validation, 'bo-')\nplt.plot(optimalC, c_vs_validation[svc_list.index(optimalC)], 'ro')\nplt.xlabel(\"Values of C\")\nplt.ylabel(\"Validation scores\")\nplt.title(\"Graph of \\\"C vs Validation Score\\\" (SVM)\")\nplt.show()",
      "execution_count": 12,
      "outputs": [
        {
          "output_type": "stream",
          "text": "1 0.9878946307055863\n1 0.9272471067171686\n-------------------------\n5 0.9968375555582327\n5 0.9321427586477663\n-------------------------\n10 0.998435767215172\n10 0.9310554298998233\n-------------------------\n15 0.9994218785140998\n15 0.9313292950755067\n-------------------------\n20 0.9997619683367496\n20 0.9307853549879408\n-------------------------\n25 0.9998639975956267\n25 0.9310572788492596\n-------------------------\n30 0.999966009517335\n30 0.9307848930332698\n-------------------------\nOptimal C =  5\nTraining Score by SVM :  0.9968375555582327\nValidation Score by SVM :  0.9321427586477663\n",
          "name": "stdout"
        },
        {
          "output_type": "display_data",
          "data": {
            "text/plain": "<Figure size 432x288 with 1 Axes>",
            "image/png": "[encoded data removed]"
          },
          "metadata": {
            "needs_background": "light"
          }
        }
      ]
    },
    {
      "metadata": {
        "trusted": true,
        "_uuid": "4748087746bccbc91f2a4d548c529d560c937189"
      },
      "cell_type": "code",
      "source": "max_val = 0\nval_list = []\nbest_clf = None\nbest_yval = []\ny_pred = []\n\nfor train_index, val_index in kf.split(X, y) :\n    X_train, X_val = X[train_index], X[val_index]\n    y_train, y_val = y[train_index], y[val_index]\n    clf = SVC(C=optimalC, random_state=42)\n    clf.fit(X_train, y_train)\n    \n    train_score = clf.score(X_train, y_train)\n    val_score = clf.score(X_val, y_val)\n    val_list.append(val_score)\n    if(max_val < val_score) :\n        max_val = val_score\n        best_clf = clf\n        best_yval = y_val\n        y_pred = best_clf.predict(X_val)\n\nprint(\"Max validation score : \", max_val)\nprint(\"val_list : \", sorted(val_list))\n\ntest_score = best_clf.score(X_test, y_test)\nprint(\"Test Score by SVM : \", test_score)",
      "execution_count": null,
      "outputs": []
    },
    {
      "metadata": {
        "_uuid": "ceef27faa0c4731d8ffd6ab9bc17ff5f0c26c441"
      },
      "cell_type": "markdown",
      "source": "# Confusion Matrix analysis for SVM"
    },
    {
      "metadata": {
        "trusted": true,
        "_uuid": "095133ebee94b7526ea61d977b48d8404b02bf98"
      },
      "cell_type": "code",
      "source": "from sklearn.metrics import confusion_matrix\nfrom sklearn.metrics import f1_score\ndisplay(confusion_matrix(best_yval, y_pred))\ndisplay(f1_score(best_yval, y_pred, average='micro'))",
      "execution_count": null,
      "outputs": []
    },
    {
      "metadata": {
        "_uuid": "2daba1719e65abfa045699b05d744d4e2bc273cf"
      },
      "cell_type": "markdown",
      "source": " # Applying Random Forest Classifier\nRandom Forest Classifier generally performs really well but in this case, it is overfitting as we can see that training score and test score have significant difference."
    },
    {
      "metadata": {
        "trusted": true,
        "_uuid": "ba116ed6c05db2decbf91ba5726e30fb2ddf07db"
      },
      "cell_type": "code",
      "source": "from sklearn.ensemble import RandomForestClassifier\n\nmax_train = 0\nmax_val = 0\noptimalDepth = 7\noptimalEstimator = 5\nfor depth in [7, 8, 9] :\n    for estimator in range(5, 51, 5) :\n        score_train = 0\n        score_val = 0\n        for train_index, val_index in kf.split(X, y) :\n            X_train, X_val = X[train_index], X[val_index]\n            y_train, y_val = y[train_index], y[val_index]\n            model_rfc = RandomForestClassifier(n_estimators=estimator, max_depth=depth, random_state=42)\n            model_rfc.fit(X_train, y_train)\n            score_train += model_rfc.score(X_train, y_train)\n            score_val += model_rfc.score(X_val, y_val)\n        score_train /= k\n        score_val /= k\n        print(\"Training Score for  \", depth, estimator, \" : \", score_train)\n        print(\"Validation Score for \", depth, estimator,\" : \", score_val)\n        if(max_val < score_val) :\n            max_val = score_val\n            max_train = score_train\n            optimalDepth = depth\n            optimalEstimator = estimator\n            print(\"depth, estimator = \", depth, estimator)\n            \nprint(\"Optimal Depth = \", optimalDepth)\nprint(\"Optimal Number of Estimators = \", optimalEstimator)\nprint(\"Training Score by Random Forest Classifier : \", max_train)\nprint(\"Validation Score by Random Forest Classifier : \", max_val)",
      "execution_count": null,
      "outputs": []
    },
    {
      "metadata": {
        "trusted": true,
        "_uuid": "83c456858687a92b5096c80a0e28e65a82e14021"
      },
      "cell_type": "code",
      "source": "max_val = 0\nval_list = []\nbest_rfc = None\nbest_yval = []\ny_pred = []\nfor train_index, val_index in kf.split(X, y) :\n    X_train, X_val = X[train_index], X[val_index]\n    y_train, y_val = y[train_index], y[val_index]\n    model_rfc = RandomForestClassifier(n_estimators=optimalEstimator, max_depth=optimalDepth, random_state=42)\n    model_rfc.fit(X_train, y_train)\n    train_score = model_rfc.score(X_train, y_train)\n    val_score = model_rfc.score(X_val, y_val)\n    val_list.append(val_score)\n    if(max_val < val_score) :\n        max_val = val_score\n        best_rfc = model_rfc\n        y_pred = model_rfc.predict(X_val)\n        best_yval = y_val\nprint(\"Max validation score : \", max_val)\nprint(\"val_list : \", sorted(val_list))\n\ntest_score = best_rfc.score(X_test, y_test)\nprint(\"Test Score by Random Forest Classifier : \", test_score)",
      "execution_count": 8,
      "outputs": [
        {
          "output_type": "stream",
          "text": "Max validation score :  0.9387338325391422\nval_list :  [0.902107409925221, 0.903663500678426, 0.9285714285714286, 0.9305177111716622, 0.9387338325391422]\nTest Score by Random Forest Classifier :  0.9114353579911775\n",
          "name": "stdout"
        }
      ]
    },
    {
      "metadata": {
        "_uuid": "03c3ea17c2917458f66e4f4f8d728aba0876ea22"
      },
      "cell_type": "markdown",
      "source": "# Confusion Matrix analysis for Random Forest Classifier"
    },
    {
      "metadata": {
        "trusted": true,
        "_uuid": "107a58516623a45493bcac7977a4337b649fc707"
      },
      "cell_type": "code",
      "source": "from sklearn.metrics import confusion_matrix\nfrom sklearn.metrics import f1_score\ndisplay(confusion_matrix(best_yval,y_pred))\ndisplay(f1_score(best_yval, y_pred, average='micro'))",
      "execution_count": 10,
      "outputs": [
        {
          "output_type": "display_data",
          "data": {
            "text/plain": "array([[238,   3,   4,   0,   0,   0],\n       [  2, 202,   8,   0,   2,   0],\n       [  5,  40, 152,   0,   0,   0],\n       [  0,   0,   0, 246,  11,   0],\n       [  0,   0,   0,  15, 260,   0],\n       [  0,   0,   0,   0,   0, 281]])"
          },
          "metadata": {}
        },
        {
          "output_type": "display_data",
          "data": {
            "text/plain": "0.9387338325391422"
          },
          "metadata": {}
        }
      ]
    },
    {
      "metadata": {
        "_uuid": "2e061b38d822501a621398e14bdcfa81270e51fc"
      },
      "cell_type": "markdown",
      "source": "# Challenges faced\n- **Model Selection** - How to find the optimal parameters for the model\n- **Using PCA** - Should PCA be used or not?\n- **Training Time** - Since, the dataset contains 561 attributes and 10299 instances, training the model takes the time.\n- **How to split Dataset** - Which technique to use for splitting the data set ? "
    },
    {
      "metadata": {
        "_uuid": "eb210012ff043f551fb832778a898f1b4104683b"
      },
      "cell_type": "markdown",
      "source": "# Conclusion\nI have trained three models for Human-Activity Classification Dataset and observed their performances. As we can see that out of three, Logistic Regression and SVM are performing really well and Logistic Regression is performing overall better as it has better Validation Score and also better F1-score. Also, from the experience Logistic Regression gives the similar score in Test Dataset as Validation Dataset. So considering Reliability and Performance of Logistic Regression, i will stick with Logistic Regression as my model for predicting the Test Dataset."
    }
  ],
  "metadata": {
    "kernelspec": {
      "display_name": "Python 3",
      "language": "python",
      "name": "python3"
    },
    "language_info": {
      "name": "python",
      "version": "3.6.6",
      "mimetype": "text/x-python",
      "codemirror_mode": {
        "name": "ipython",
        "version": 3
      },
      "pygments_lexer": "ipython3",
      "nbconvert_exporter": "python",
      "file_extension": ".py"
    }
  },
  "nbformat": 4,
  "nbformat_minor": 1
}